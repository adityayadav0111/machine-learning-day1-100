{
 "cells": [
  {
   "cell_type": "markdown",
   "id": "114597d4-6dde-4afe-ba42-0b7d7af77808",
   "metadata": {},
   "source": [
    "link : https://youtu.be/roTZJaxjnJc?si=RZd5UP5UEsZIaD8z"
   ]
  },
  {
   "cell_type": "markdown",
   "id": "d090636a-f01a-4b03-b51e-f841c0960fe5",
   "metadata": {},
   "source": [
    "## What is API??"
   ]
  },
  {
   "cell_type": "markdown",
   "id": "c4c2aaa7-cd08-42d9-8423-47bd48b66ab3",
   "metadata": {},
   "source": [
    "- It stands for Application Programming Interface\n",
    "- In simple terms, an **API** (Application Programming Interface) is a set of rules and tools that allows different software applications to communicate with each other. Think of it as a waiter in a restaurant: you (the user) place an order (request) through the waiter (API), who then tells the kitchen (the server or database) what you want. Once the food (response) is ready, the waiter brings it back to you.\n",
    "\n",
    "### Key Points:\n",
    "- **Communication**: APIs enable different systems or applications to talk to each other.\n",
    "- **Requests and Responses**: You make requests to an API, and it sends back responses with the requested data or actions.\n",
    "- **Simplifies Development**: Developers can use APIs to access functionality or data from other applications without having to know how those applications are built.\n",
    "\n",
    "For example, when you use a weather app on your phone, it uses an API to get the latest weather information from a server, which processes your request and sends back the weather data. \n",
    "\n",
    "APIs are everywhere in software development, enabling a wide range of functionalities, from social media sharing to payment processing!"
   ]
  },
  {
   "cell_type": "markdown",
   "id": "509872e5-765e-4531-8775-98df3d56af42",
   "metadata": {},
   "source": [
    "in simpler terms, it communicates two software."
   ]
  },
  {
   "cell_type": "markdown",
   "id": "54120796-4918-4150-afbf-4b00cc1c3a20",
   "metadata": {},
   "source": [
    "IRCTC ---MakeMyTrip,Xixigo,Yatra.com(this application uses api) for booking tickets"
   ]
  },
  {
   "cell_type": "markdown",
   "id": "5e3f0a07-03d9-44a5-996c-0ae175e22038",
   "metadata": {},
   "source": [
    "### TMDB API"
   ]
  },
  {
   "cell_type": "code",
   "execution_count": 1,
   "id": "ddb61578-9804-4a72-9f97-3c816fa0a4d0",
   "metadata": {},
   "outputs": [],
   "source": [
    "## Note: we didnt get the link for requesting the API and we can get api token from logging into tmdb database"
   ]
  },
  {
   "cell_type": "markdown",
   "id": "2d57a540-f50c-48e1-88f5-e1a1161e19e2",
   "metadata": {},
   "source": [
    "- step 1 - api request link\n",
    "- step 2 - api key from tmdb login\n",
    "- step 3 - json file --- json viewer to view data\n",
    "- step 4 - choose columns after viewing from json viewer\n",
    "- step 5 - code"
   ]
  },
  {
   "cell_type": "code",
   "execution_count": 2,
   "id": "b241bd7d-e375-4ea5-a92d-d0f921d88615",
   "metadata": {},
   "outputs": [],
   "source": [
    "import pandas as pd\n",
    "import requests"
   ]
  },
  {
   "cell_type": "code",
   "execution_count": 8,
   "id": "3f787e9c-fb99-4d1f-b5f5-f747be3c15ef",
   "metadata": {},
   "outputs": [],
   "source": [
    "response = requests.get('https://api.themoviedb.org/3/movie/top_rated?api_key=9b955595d7ffef24254513d6a66503fe&language=en-US&page=1')"
   ]
  },
  {
   "cell_type": "code",
   "execution_count": 9,
   "id": "664b82df-2dd7-48d2-b7e6-4ab652eec702",
   "metadata": {},
   "outputs": [
    {
     "data": {
      "text/plain": [
       "{'page': 1,\n",
       " 'results': [{'adult': False,\n",
       "   'backdrop_path': '/zfbjgQE1uSd9wiPTX4VzsLi0rGG.jpg',\n",
       "   'genre_ids': [18, 80],\n",
       "   'id': 278,\n",
       "   'original_language': 'en',\n",
       "   'original_title': 'The Shawshank Redemption',\n",
       "   'overview': 'Imprisoned in the 1940s for the double murder of his wife and her lover, upstanding banker Andy Dufresne begins a new life at the Shawshank prison, where he puts his accounting skills to work for an amoral warden. During his long stretch in prison, Dufresne comes to be admired by the other inmates -- including an older prisoner named Red -- for his integrity and unquenchable sense of hope.',\n",
       "   'popularity': 219.372,\n",
       "   'poster_path': '/9cqNxx0GxF0bflZmeSMuL5tnGzr.jpg',\n",
       "   'release_date': '1994-09-23',\n",
       "   'title': 'The Shawshank Redemption',\n",
       "   'video': False,\n",
       "   'vote_average': 8.706,\n",
       "   'vote_count': 26994},\n",
       "  {'adult': False,\n",
       "   'backdrop_path': '/tmU7GeKVybMWFButWEGl2M4GeiP.jpg',\n",
       "   'genre_ids': [18, 80],\n",
       "   'id': 238,\n",
       "   'original_language': 'en',\n",
       "   'original_title': 'The Godfather',\n",
       "   'overview': 'Spanning the years 1945 to 1955, a chronicle of the fictional Italian-American Corleone crime family. When organized crime family patriarch, Vito Corleone barely survives an attempt on his life, his youngest son, Michael steps in to take care of the would-be killers, launching a campaign of bloody revenge.',\n",
       "   'popularity': 192.572,\n",
       "   'poster_path': '/3bhkrj58Vtu7enYsRolD1fZdja1.jpg',\n",
       "   'release_date': '1972-03-14',\n",
       "   'title': 'The Godfather',\n",
       "   'video': False,\n",
       "   'vote_average': 8.7,\n",
       "   'vote_count': 20500},\n",
       "  {'adult': False,\n",
       "   'backdrop_path': '/417tYZ4XUyJrtyZXj7HpvWf1E8f.jpg',\n",
       "   'genre_ids': [16, 878, 10751],\n",
       "   'id': 1184918,\n",
       "   'original_language': 'en',\n",
       "   'original_title': 'The Wild Robot',\n",
       "   'overview': \"After a shipwreck, an intelligent robot called Roz is stranded on an uninhabited island. To survive the harsh environment, Roz bonds with the island's animals and cares for an orphaned baby goose.\",\n",
       "   'popularity': 6191.489,\n",
       "   'poster_path': '/wTnV3PCVW5O92JMrFvvrRcV39RU.jpg',\n",
       "   'release_date': '2024-09-12',\n",
       "   'title': 'The Wild Robot',\n",
       "   'video': False,\n",
       "   'vote_average': 8.7,\n",
       "   'vote_count': 1236},\n",
       "  {'adult': False,\n",
       "   'backdrop_path': '/kGzFbGhp99zva6oZODW5atUtnqi.jpg',\n",
       "   'genre_ids': [18, 80],\n",
       "   'id': 240,\n",
       "   'original_language': 'en',\n",
       "   'original_title': 'The Godfather Part II',\n",
       "   'overview': 'In the continuing saga of the Corleone crime family, a young Vito Corleone grows up in Sicily and in 1910s New York. In the 1950s, Michael Corleone attempts to expand the family business into Las Vegas, Hollywood and Cuba.',\n",
       "   'popularity': 97.101,\n",
       "   'poster_path': '/hek3koDUyRQk7FIhPXsa6mT2Zc3.jpg',\n",
       "   'release_date': '1974-12-20',\n",
       "   'title': 'The Godfather Part II',\n",
       "   'video': False,\n",
       "   'vote_average': 8.574,\n",
       "   'vote_count': 12367},\n",
       "  {'adult': False,\n",
       "   'backdrop_path': '/zb6fM1CX41D9rF9hdgclu0peUmy.jpg',\n",
       "   'genre_ids': [18, 36, 10752],\n",
       "   'id': 424,\n",
       "   'original_language': 'en',\n",
       "   'original_title': \"Schindler's List\",\n",
       "   'overview': 'The true story of how businessman Oskar Schindler saved over a thousand Jewish lives from the Nazis while they worked as slaves in his factory during World War II.',\n",
       "   'popularity': 86.69,\n",
       "   'poster_path': '/sF1U4EUQS8YHUYjNl3pMGNIQyr0.jpg',\n",
       "   'release_date': '1993-12-15',\n",
       "   'title': \"Schindler's List\",\n",
       "   'video': False,\n",
       "   'vote_average': 8.565,\n",
       "   'vote_count': 15770},\n",
       "  {'adult': False,\n",
       "   'backdrop_path': '/qqHQsStV6exghCM7zbObuYBiYxw.jpg',\n",
       "   'genre_ids': [18],\n",
       "   'id': 389,\n",
       "   'original_language': 'en',\n",
       "   'original_title': '12 Angry Men',\n",
       "   'overview': \"The defense and the prosecution have rested and the jury is filing into the jury room to decide if a young Spanish-American is guilty or innocent of murdering his father. What begins as an open and shut case soon becomes a mini-drama of each of the jurors' prejudices and preconceptions about the trial, the accused, and each other.\",\n",
       "   'popularity': 59.426,\n",
       "   'poster_path': '/ow3wq89wM8qd5X7hWKxiRfsFf9C.jpg',\n",
       "   'release_date': '1957-04-10',\n",
       "   'title': '12 Angry Men',\n",
       "   'video': False,\n",
       "   'vote_average': 8.545,\n",
       "   'vote_count': 8581},\n",
       "  {'adult': False,\n",
       "   'backdrop_path': '/6oaL4DP75yABrd5EbC4H2zq5ghc.jpg',\n",
       "   'genre_ids': [16, 10751, 14],\n",
       "   'id': 129,\n",
       "   'original_language': 'ja',\n",
       "   'original_title': '千と千尋の神隠し',\n",
       "   'overview': 'A young girl, Chihiro, becomes trapped in a strange new world of spirits. When her parents undergo a mysterious transformation, she must call upon the courage she never knew she had to free her family.',\n",
       "   'popularity': 116.587,\n",
       "   'poster_path': '/39wmItIWsg5sZMyRUHLkWBcuVCM.jpg',\n",
       "   'release_date': '2001-07-20',\n",
       "   'title': 'Spirited Away',\n",
       "   'video': False,\n",
       "   'vote_average': 8.537,\n",
       "   'vote_count': 16415},\n",
       "  {'adult': False,\n",
       "   'backdrop_path': '/90ez6ArvpO8bvpyIngBuwXOqJm5.jpg',\n",
       "   'genre_ids': [35, 18, 10749],\n",
       "   'id': 19404,\n",
       "   'original_language': 'hi',\n",
       "   'original_title': 'दिलवाले दुल्हनिया ले जायेंगे',\n",
       "   'overview': 'Raj is a rich, carefree, happy-go-lucky second generation NRI. Simran is the daughter of Chaudhary Baldev Singh, who in spite of being an NRI is very strict about adherence to Indian values. Simran has left for India to be married to her childhood fiancé. Raj leaves for India with a mission at his hands, to claim his lady love under the noses of her whole family. Thus begins a saga.',\n",
       "   'popularity': 45.209,\n",
       "   'poster_path': '/lfRkUr7DYdHldAqi3PwdQGBRBPM.jpg',\n",
       "   'release_date': '1995-10-20',\n",
       "   'title': 'Dilwale Dulhania Le Jayenge',\n",
       "   'video': False,\n",
       "   'vote_average': 8.5,\n",
       "   'vote_count': 4430},\n",
       "  {'adult': False,\n",
       "   'backdrop_path': '/nMKdUUepR0i5zn0y1T4CsSB5chy.jpg',\n",
       "   'genre_ids': [18, 28, 80, 53],\n",
       "   'id': 155,\n",
       "   'original_language': 'en',\n",
       "   'original_title': 'The Dark Knight',\n",
       "   'overview': 'Batman raises the stakes in his war on crime. With the help of Lt. Jim Gordon and District Attorney Harvey Dent, Batman sets out to dismantle the remaining criminal organizations that plague the streets. The partnership proves to be effective, but they soon find themselves prey to a reign of chaos unleashed by a rising criminal mastermind known to the terrified citizens of Gotham as the Joker.',\n",
       "   'popularity': 171.241,\n",
       "   'poster_path': '/qJ2tW6WMUDux911r6m7haRef0WH.jpg',\n",
       "   'release_date': '2008-07-16',\n",
       "   'title': 'The Dark Knight',\n",
       "   'video': False,\n",
       "   'vote_average': 8.515,\n",
       "   'vote_count': 32741},\n",
       "  {'adult': False,\n",
       "   'backdrop_path': '/8eihUxjQsJ7WvGySkVMC0EwbPAD.jpg',\n",
       "   'genre_ids': [35, 53, 18],\n",
       "   'id': 496243,\n",
       "   'original_language': 'ko',\n",
       "   'original_title': '기생충',\n",
       "   'overview': \"All unemployed, Ki-taek's family takes peculiar interest in the wealthy and glamorous Parks for their livelihood until they get entangled in an unexpected incident.\",\n",
       "   'popularity': 127.039,\n",
       "   'poster_path': '/7IiTTgloJzvGI1TAYymCfbfl3vT.jpg',\n",
       "   'release_date': '2019-05-30',\n",
       "   'title': 'Parasite',\n",
       "   'video': False,\n",
       "   'vote_average': 8.506,\n",
       "   'vote_count': 18145},\n",
       "  {'adult': False,\n",
       "   'backdrop_path': '/vxJ08SvwomfKbpboCWynC3uqUg4.jpg',\n",
       "   'genre_ids': [14, 18, 80],\n",
       "   'id': 497,\n",
       "   'original_language': 'en',\n",
       "   'original_title': 'The Green Mile',\n",
       "   'overview': \"A supernatural tale set on death row in a Southern prison, where gentle giant John Coffey possesses the mysterious power to heal people's ailments. When the cell block's head guard, Paul Edgecomb, recognizes Coffey's miraculous gift, he tries desperately to help stave off the condemned man's execution.\",\n",
       "   'popularity': 95.093,\n",
       "   'poster_path': '/8VG8fDNiy50H4FedGwdSVUPoaJe.jpg',\n",
       "   'release_date': '1999-12-10',\n",
       "   'title': 'The Green Mile',\n",
       "   'video': False,\n",
       "   'vote_average': 8.5,\n",
       "   'vote_count': 17325},\n",
       "  {'adult': False,\n",
       "   'backdrop_path': '/suaEOtk1N1sgg2MTM7oZd2cfVp3.jpg',\n",
       "   'genre_ids': [53, 80],\n",
       "   'id': 680,\n",
       "   'original_language': 'en',\n",
       "   'original_title': 'Pulp Fiction',\n",
       "   'overview': \"A burger-loving hit man, his philosophical partner, a drug-addled gangster's moll and a washed-up boxer converge in this sprawling, comedic crime caper. Their adventures unfurl in three stories that ingeniously trip back and forth in time.\",\n",
       "   'popularity': 117.741,\n",
       "   'poster_path': '/d5iIlFn5s0ImszYzBPb8JPIfbXD.jpg',\n",
       "   'release_date': '1994-09-10',\n",
       "   'title': 'Pulp Fiction',\n",
       "   'video': False,\n",
       "   'vote_average': 8.488,\n",
       "   'vote_count': 27782},\n",
       "  {'adult': False,\n",
       "   'backdrop_path': '/dIWwZW7dJJtqC6CgWzYkNVKIUm8.jpg',\n",
       "   'genre_ids': [16, 10749, 18],\n",
       "   'id': 372058,\n",
       "   'original_language': 'ja',\n",
       "   'original_title': '君の名は。',\n",
       "   'overview': 'High schoolers Mitsuha and Taki are complete strangers living separate lives. But one night, they suddenly switch places. Mitsuha wakes up in Taki’s body, and he in hers. This bizarre occurrence continues to happen randomly, and the two must adjust their lives around each other.',\n",
       "   'popularity': 110.565,\n",
       "   'poster_path': '/vfJFJPepRKapMd5G2ro7klIRysq.jpg',\n",
       "   'release_date': '2016-08-26',\n",
       "   'title': 'Your Name.',\n",
       "   'video': False,\n",
       "   'vote_average': 8.486,\n",
       "   'vote_count': 11307},\n",
       "  {'adult': False,\n",
       "   'backdrop_path': '/2u7zbn8EudG6kLlBzUYqP8RyFU4.jpg',\n",
       "   'genre_ids': [12, 14, 28],\n",
       "   'id': 122,\n",
       "   'original_language': 'en',\n",
       "   'original_title': 'The Lord of the Rings: The Return of the King',\n",
       "   'overview': 'As armies mass for a final battle that will decide the fate of the world--and powerful, ancient forces of Light and Dark compete to determine the outcome--one member of the Fellowship of the Ring is revealed as the noble heir to the throne of the Kings of Men. Yet, the sole hope for triumph over evil lies with a brave hobbit, Frodo, who, accompanied by his loyal friend Sam and the hideous, wretched Gollum, ventures deep into the very dark heart of Mordor on his seemingly impossible quest to destroy the Ring of Power.\\u200b',\n",
       "   'popularity': 167.88,\n",
       "   'poster_path': '/rCzpDGLbOoPwLjy3OAm5NUPOTrC.jpg',\n",
       "   'release_date': '2003-12-17',\n",
       "   'title': 'The Lord of the Rings: The Return of the King',\n",
       "   'video': False,\n",
       "   'vote_average': 8.5,\n",
       "   'vote_count': 24076},\n",
       "  {'adult': False,\n",
       "   'backdrop_path': '/ghgfzbEV7kbpbi1O8eIILKVXEA8.jpg',\n",
       "   'genre_ids': [35, 18, 10749],\n",
       "   'id': 13,\n",
       "   'original_language': 'en',\n",
       "   'original_title': 'Forrest Gump',\n",
       "   'overview': 'A man with a low IQ has accomplished great things in his life and been present during significant historic events—in each case, far exceeding what anyone imagined he could do. But despite all he has achieved, his one true love eludes him.',\n",
       "   'popularity': 93.196,\n",
       "   'poster_path': '/arw2vcBveWOVZr6pxd9XTd1TdQa.jpg',\n",
       "   'release_date': '1994-06-23',\n",
       "   'title': 'Forrest Gump',\n",
       "   'video': False,\n",
       "   'vote_average': 8.5,\n",
       "   'vote_count': 27308},\n",
       "  {'adult': False,\n",
       "   'backdrop_path': '/Adrip2Jqzw56KeuV2nAxucKMNXA.jpg',\n",
       "   'genre_ids': [37],\n",
       "   'id': 429,\n",
       "   'original_language': 'it',\n",
       "   'original_title': 'Il buono, il brutto, il cattivo',\n",
       "   'overview': 'While the Civil War rages on between the Union and the Confederacy, three men – a quiet loner, a ruthless hitman, and a Mexican bandit – comb the American Southwest in search of a strongbox containing $200,000 in stolen gold.',\n",
       "   'popularity': 92.642,\n",
       "   'poster_path': '/bX2xnavhMYjWDoZp1VM6VnU1xwe.jpg',\n",
       "   'release_date': '1966-12-22',\n",
       "   'title': 'The Good, the Bad and the Ugly',\n",
       "   'video': False,\n",
       "   'vote_average': 8.463,\n",
       "   'vote_count': 8550},\n",
       "  {'adult': False,\n",
       "   'backdrop_path': '/7TF4p86ZafnxFuNqWdhpHXFO244.jpg',\n",
       "   'genre_ids': [18, 80],\n",
       "   'id': 769,\n",
       "   'original_language': 'en',\n",
       "   'original_title': 'GoodFellas',\n",
       "   'overview': 'The true story of Henry Hill, a half-Irish, half-Sicilian Brooklyn kid who is adopted by neighbourhood gangsters at an early age and climbs the ranks of a Mafia family under the guidance of Jimmy Conway.',\n",
       "   'popularity': 70.725,\n",
       "   'poster_path': '/aKuFiU82s5ISJpGZp7YkIr3kCUd.jpg',\n",
       "   'release_date': '1990-09-12',\n",
       "   'title': 'GoodFellas',\n",
       "   'video': False,\n",
       "   'vote_average': 8.5,\n",
       "   'vote_count': 12785},\n",
       "  {'adult': False,\n",
       "   'backdrop_path': '/sJNNMCc6B7KZIY3LH3JMYJJNH5j.jpg',\n",
       "   'genre_ids': [28, 18],\n",
       "   'id': 346,\n",
       "   'original_language': 'ja',\n",
       "   'original_title': '七人の侍',\n",
       "   'overview': \"A samurai answers a village's request for protection after he falls on hard times. The town needs protection from bandits, so the samurai gathers six others to help him teach the people how to defend themselves, and the villagers provide the soldiers with food.\",\n",
       "   'popularity': 55.381,\n",
       "   'poster_path': '/8OKmBV5BUFzmozIC3pPWKHy17kx.jpg',\n",
       "   'release_date': '1954-04-26',\n",
       "   'title': 'Seven Samurai',\n",
       "   'video': False,\n",
       "   'vote_average': 8.5,\n",
       "   'vote_count': 3645},\n",
       "  {'adult': False,\n",
       "   'backdrop_path': '/gwj4R8Uy1GwejKqfofREKI9Jh7L.jpg',\n",
       "   'genre_ids': [16, 18, 10752],\n",
       "   'id': 12477,\n",
       "   'original_language': 'ja',\n",
       "   'original_title': '火垂るの墓',\n",
       "   'overview': 'In the final months of World War II, 14-year-old Seita and his sister Setsuko are orphaned when their mother is killed during an air raid in Kobe, Japan. After a falling out with their aunt, they move into an abandoned bomb shelter. With no surviving relatives and their emergency rations depleted, Seita and Setsuko struggle to survive.',\n",
       "   'popularity': 0.062,\n",
       "   'poster_path': '/k9tv1rXZbOhH7eiCk378x61kNQ1.jpg',\n",
       "   'release_date': '1988-04-16',\n",
       "   'title': 'Grave of the Fireflies',\n",
       "   'video': False,\n",
       "   'vote_average': 8.456,\n",
       "   'vote_count': 5494},\n",
       "  {'adult': False,\n",
       "   'backdrop_path': '/7lyq8hK0MhPHpUXdnqbFvZYSfkk.jpg',\n",
       "   'genre_ids': [18, 10749],\n",
       "   'id': 11216,\n",
       "   'original_language': 'it',\n",
       "   'original_title': 'Nuovo Cinema Paradiso',\n",
       "   'overview': \"A filmmaker recalls his childhood, when he fell in love with the movies at his village's theater and formed a deep friendship with the theater's projectionist.\",\n",
       "   'popularity': 42.091,\n",
       "   'poster_path': '/gCI2AeMV4IHSewhJkzsur5MEp6R.jpg',\n",
       "   'release_date': '1988-11-17',\n",
       "   'title': 'Cinema Paradiso',\n",
       "   'video': False,\n",
       "   'vote_average': 8.449,\n",
       "   'vote_count': 4341}],\n",
       " 'total_pages': 485,\n",
       " 'total_results': 9690}"
      ]
     },
     "execution_count": 9,
     "metadata": {},
     "output_type": "execute_result"
    }
   ],
   "source": [
    "response.json()"
   ]
  },
  {
   "cell_type": "code",
   "execution_count": 15,
   "id": "f4bd6c49-78ad-428b-a546-30c61fdacef0",
   "metadata": {},
   "outputs": [],
   "source": [
    "df = pd.DataFrame(response.json()['results'])[['id','overview','popularity','release_date','title','vote_average']]"
   ]
  },
  {
   "cell_type": "code",
   "execution_count": 16,
   "id": "33b7a98e-ee49-4ba8-9547-5b59b735d7d9",
   "metadata": {},
   "outputs": [
    {
     "data": {
      "text/plain": [
       "(20, 6)"
      ]
     },
     "execution_count": 16,
     "metadata": {},
     "output_type": "execute_result"
    }
   ],
   "source": [
    "df.shape"
   ]
  },
  {
   "cell_type": "code",
   "execution_count": 20,
   "id": "f303ea06-d600-4af0-a352-e9b49b7fbafe",
   "metadata": {},
   "outputs": [],
   "source": [
    "### Appending data of 429 pages"
   ]
  },
  {
   "cell_type": "code",
   "execution_count": 31,
   "id": "4a926695-ad45-4b92-9fa1-b233a181a1d6",
   "metadata": {},
   "outputs": [],
   "source": [
    "df = pd.DataFrame()"
   ]
  },
  {
   "cell_type": "code",
   "execution_count": 32,
   "id": "b17aa664-0076-4740-806f-7a058edc8080",
   "metadata": {},
   "outputs": [
    {
     "data": {
      "text/html": [
       "<div>\n",
       "<style scoped>\n",
       "    .dataframe tbody tr th:only-of-type {\n",
       "        vertical-align: middle;\n",
       "    }\n",
       "\n",
       "    .dataframe tbody tr th {\n",
       "        vertical-align: top;\n",
       "    }\n",
       "\n",
       "    .dataframe thead th {\n",
       "        text-align: right;\n",
       "    }\n",
       "</style>\n",
       "<table border=\"1\" class=\"dataframe\">\n",
       "  <thead>\n",
       "    <tr style=\"text-align: right;\">\n",
       "      <th></th>\n",
       "    </tr>\n",
       "  </thead>\n",
       "  <tbody>\n",
       "  </tbody>\n",
       "</table>\n",
       "</div>"
      ],
      "text/plain": [
       "Empty DataFrame\n",
       "Columns: []\n",
       "Index: []"
      ]
     },
     "execution_count": 32,
     "metadata": {},
     "output_type": "execute_result"
    }
   ],
   "source": [
    "df"
   ]
  },
  {
   "cell_type": "code",
   "execution_count": 36,
   "id": "f9536478-eb57-477e-b67a-487a9c1e4158",
   "metadata": {},
   "outputs": [],
   "source": [
    "for i in range(1,429):\n",
    "    response = requests.get('https://api.themoviedb.org/3/movie/top_rated?api_key=9b955595d7ffef24254513d6a66503fe&language=en-US&page={}'.format(i))\n",
    "    temp_df = pd.DataFrame(response.json()['results'])[['id','overview','popularity','release_date','title','vote_average']]\n",
    "    df = pd.concat([df,temp_df], ignore_index=True)"
   ]
  },
  {
   "cell_type": "markdown",
   "id": "d926c62b-6696-4906-b038-a782a163bd2b",
   "metadata": {},
   "source": [
    "## RapidApi"
   ]
  },
  {
   "cell_type": "code",
   "execution_count": 38,
   "id": "e847746d-fb34-483a-b5c1-5a7c8823764e",
   "metadata": {},
   "outputs": [],
   "source": [
    "## Linkedin Scraping"
   ]
  },
  {
   "cell_type": "code",
   "execution_count": null,
   "id": "b51a1cd7-a959-49e6-b770-b73348311736",
   "metadata": {},
   "outputs": [],
   "source": []
  },
  {
   "cell_type": "code",
   "execution_count": null,
   "id": "e3329b74-c408-4b3f-8526-c13da0782443",
   "metadata": {},
   "outputs": [],
   "source": []
  }
 ],
 "metadata": {
  "kernelspec": {
   "display_name": "Python 3 (ipykernel)",
   "language": "python",
   "name": "python3"
  },
  "language_info": {
   "codemirror_mode": {
    "name": "ipython",
    "version": 3
   },
   "file_extension": ".py",
   "mimetype": "text/x-python",
   "name": "python",
   "nbconvert_exporter": "python",
   "pygments_lexer": "ipython3",
   "version": "3.12.6"
  }
 },
 "nbformat": 4,
 "nbformat_minor": 5
}

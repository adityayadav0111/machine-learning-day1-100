{
 "cells": [
  {
   "cell_type": "markdown",
   "id": "adfc4b09-9745-4ee6-b86c-4acc826d46eb",
   "metadata": {},
   "source": [
    "## What is Tensors?"
   ]
  },
  {
   "cell_type": "markdown",
   "id": "7a7cb0ce-b547-4ed0-9fa3-c4d4c22fe71b",
   "metadata": {},
   "source": [
    "- Data Structure - to store data\n",
    "- n dimensional array means Tensors"
   ]
  },
  {
   "cell_type": "markdown",
   "id": "a4815e81-97b2-4e97-927e-d6ccb4d9ee1a",
   "metadata": {},
   "source": [
    "Tensors are mathematical object that generalize scalars, vectors, matrices. They are used in engineering , physics adn ML to represent multi-dimensional data. In simple terms they are just array of no arrange in diffferent dimensions."
   ]
  },
  {
   "cell_type": "markdown",
   "id": "6abaa65b-05de-411a-8e4c-6eb848350c61",
   "metadata": {},
   "source": [
    "### Types\n",
    "- 0D Tensor (scalars)\n",
    "- 1D Tensors/ 1D array/ Vector"
   ]
  },
  {
   "cell_type": "markdown",
   "id": "aa9ce74e-42e5-4dbf-8405-6800bffd5e65",
   "metadata": {},
   "source": [
    "## No of Axes = Rank = Dimension  ye sab same hote hai"
   ]
  },
  {
   "cell_type": "code",
   "execution_count": 4,
   "id": "54d91307-42c5-488a-873a-9a6ee6e45bb8",
   "metadata": {},
   "outputs": [
    {
     "data": {
      "text/plain": [
       "0"
      ]
     },
     "execution_count": 4,
     "metadata": {},
     "output_type": "execute_result"
    }
   ],
   "source": [
    "# 0D tensor\n",
    "import numpy as np\n",
    "a = np.array(3)\n",
    "a.ndim"
   ]
  },
  {
   "cell_type": "code",
   "execution_count": 5,
   "id": "02dff2e1-5c70-4e08-877c-e8a018e545ba",
   "metadata": {},
   "outputs": [
    {
     "data": {
      "text/plain": [
       "1"
      ]
     },
     "execution_count": 5,
     "metadata": {},
     "output_type": "execute_result"
    }
   ],
   "source": [
    "# 1D Tesnor\n",
    "import numpy as np\n",
    "a = np.array([2,3,4,5])\n",
    "a.ndim"
   ]
  },
  {
   "cell_type": "markdown",
   "id": "c303f7b0-bd8a-4442-8429-2bea9be40cc0",
   "metadata": {},
   "source": [
    "See, ye 1d tensor aur vector hai!!! but vector 4D hai so inshort no of elements = no of dimension here\n",
    "\n",
    "from this we can say that if we want 1D tesnor so we need multiple 0D tesnors. So if we want matrix it will be collection 1d tesnors"
   ]
  },
  {
   "cell_type": "code",
   "execution_count": 8,
   "id": "5e6b00c3-f333-4e10-9212-ac4c9e8ddfb5",
   "metadata": {},
   "outputs": [
    {
     "data": {
      "text/plain": [
       "2"
      ]
     },
     "execution_count": 8,
     "metadata": {},
     "output_type": "execute_result"
    }
   ],
   "source": [
    "# 2D Tensors\n",
    "import numpy as np\n",
    "a = np.array([[1,2,3],[4,5,6],[7,8,9]])  # 2rank = 2dim\n",
    "a.ndim"
   ]
  },
  {
   "cell_type": "raw",
   "id": "54cc909b-9172-4468-bf39-4be43a71cafc",
   "metadata": {},
   "source": [
    "## ND tensor\n",
    "4*3*3 = col*row*dept   - 3D Tesnors\n",
    "then vector of 3d tesnors in 4D tesnors\n",
    "then matrix of 3d is 5D tesnor"
   ]
  },
  {
   "cell_type": "markdown",
   "id": "2bdcf6d7-0971-4822-ad5e-4c0e3b40d372",
   "metadata": {},
   "source": [
    "## Rank, Axes and shape and size\n",
    "- Rank = Axes"
   ]
  },
  {
   "cell_type": "markdown",
   "id": "df8dd582-de0c-4ac5-9c05-cfdd08a5a600",
   "metadata": {},
   "source": [
    "link:   https://youtu.be/ZftI2fEz0Fw?si=9FLI5h7HbE4xGcgc"
   ]
  },
  {
   "cell_type": "code",
   "execution_count": null,
   "id": "42f6d8b0-b207-448a-aae1-9d5e87f512bf",
   "metadata": {},
   "outputs": [],
   "source": []
  }
 ],
 "metadata": {
  "kernelspec": {
   "display_name": "Python 3 (ipykernel)",
   "language": "python",
   "name": "python3"
  },
  "language_info": {
   "codemirror_mode": {
    "name": "ipython",
    "version": 3
   },
   "file_extension": ".py",
   "mimetype": "text/x-python",
   "name": "python",
   "nbconvert_exporter": "python",
   "pygments_lexer": "ipython3",
   "version": "3.12.6"
  }
 },
 "nbformat": 4,
 "nbformat_minor": 5
}

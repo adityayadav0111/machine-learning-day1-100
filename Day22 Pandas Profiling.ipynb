{
 "cells": [
  {
   "cell_type": "code",
   "execution_count": 20,
   "id": "667deaab-b453-4796-94d6-160297b828c8",
   "metadata": {},
   "outputs": [],
   "source": [
    "import pandas as pd\n",
    "import numpy as np"
   ]
  },
  {
   "cell_type": "markdown",
   "id": "a0ae7441-1c2e-47d1-ba88-c9de6204eba4",
   "metadata": {},
   "source": [
    "## Pandas Profiler"
   ]
  },
  {
   "cell_type": "code",
   "execution_count": 21,
   "id": "f3f81ec6-0a11-4559-8146-827f529520fa",
   "metadata": {},
   "outputs": [],
   "source": [
    "df = pd.read_csv(r'C:\\Users\\Admin\\Documents\\Jupyter Notebook\\Machine Learning (CampusX)\\Dataset\\train.csv')"
   ]
  },
  {
   "cell_type": "code",
   "execution_count": 28,
   "id": "598acdd4-7124-4df5-8a61-b5c8729fafd4",
   "metadata": {},
   "outputs": [
    {
     "ename": "ModuleNotFoundError",
     "evalue": "No module named 'ydata_profiling'",
     "output_type": "error",
     "traceback": [
      "\u001b[1;31m---------------------------------------------------------------------------\u001b[0m",
      "\u001b[1;31mModuleNotFoundError\u001b[0m                       Traceback (most recent call last)",
      "Cell \u001b[1;32mIn[28], line 1\u001b[0m\n\u001b[1;32m----> 1\u001b[0m \u001b[38;5;28;01mfrom\u001b[39;00m \u001b[38;5;21;01mydata_profiling\u001b[39;00m \u001b[38;5;28;01mimport\u001b[39;00m ProfileReport\n\u001b[0;32m      2\u001b[0m prof \u001b[38;5;241m=\u001b[39m ProfileReport(df)\n\u001b[0;32m      3\u001b[0m to_file(output_file \u001b[38;5;241m=\u001b[39m\u001b[38;5;124m'\u001b[39m\u001b[38;5;124moutfile.html\u001b[39m\u001b[38;5;124m'\u001b[39m)\n",
      "\u001b[1;31mModuleNotFoundError\u001b[0m: No module named 'ydata_profiling'"
     ]
    }
   ],
   "source": [
    "from ydata_profiling import ProfileReport  #ydata-profiling\n",
    "prof = ProfileReport(df)\n",
    "to_file(output_file ='outfile.html')"
   ]
  },
  {
   "cell_type": "code",
   "execution_count": 29,
   "id": "2a6cc1a4-72e3-402d-835b-a90c639613d5",
   "metadata": {},
   "outputs": [],
   "source": [
    "# !pip install pydantic-settings"
   ]
  },
  {
   "cell_type": "code",
   "execution_count": 30,
   "id": "dac5e879-bfed-4193-9b07-0f7ffeea0253",
   "metadata": {},
   "outputs": [],
   "source": [
    "# !pip install ydata-profiling --upgrade"
   ]
  },
  {
   "cell_type": "code",
   "execution_count": null,
   "id": "8ad122f6-5d9c-4914-a738-f55370988d27",
   "metadata": {},
   "outputs": [],
   "source": []
  },
  {
   "cell_type": "markdown",
   "id": "308c02b8-156d-4954-8ff1-085c8a9061a0",
   "metadata": {},
   "source": []
  }
 ],
 "metadata": {
  "kernelspec": {
   "display_name": "Python 3 (ipykernel)",
   "language": "python",
   "name": "python3"
  },
  "language_info": {
   "codemirror_mode": {
    "name": "ipython",
    "version": 3
   },
   "file_extension": ".py",
   "mimetype": "text/x-python",
   "name": "python",
   "nbconvert_exporter": "python",
   "pygments_lexer": "ipython3",
   "version": "3.12.6"
  }
 },
 "nbformat": 4,
 "nbformat_minor": 5
}

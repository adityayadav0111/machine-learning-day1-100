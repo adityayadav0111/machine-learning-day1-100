{
 "cells": [
  {
   "cell_type": "markdown",
   "id": "fea8bf29-b6c0-4f46-b8b1-1c78cb16f588",
   "metadata": {},
   "source": [
    "## Column Transformer\n",
    "### Problem w/o CT\n",
    "- every column that require preprocessing will be converted into numpy array and then it need to be converted into df again"
   ]
  },
  {
   "cell_type": "markdown",
   "id": "27f926be-5a05-4864-a9d9-b753ac0fcadf",
   "metadata": {},
   "source": [
    "## Without CT"
   ]
  },
  {
   "cell_type": "code",
   "execution_count": 1,
   "id": "bb0e5ec8-afc5-4b90-b5e4-1880be0719b4",
   "metadata": {},
   "outputs": [],
   "source": [
    "import pandas as pd\n",
    "import numpy as np"
   ]
  },
  {
   "cell_type": "code",
   "execution_count": 3,
   "id": "4d439932-1f87-49ce-8f3d-b3f2226ea2c3",
   "metadata": {},
   "outputs": [],
   "source": [
    "from sklearn.model_selection import train_test_split\n",
    "from sklearn.impute import SimpleImputer\n",
    "from sklearn.preprocessing import OneHotEncoder\n",
    "from sklearn.preprocessing import OrdinalEncoder"
   ]
  },
  {
   "cell_type": "code",
   "execution_count": 4,
   "id": "bde8adef-3944-4360-b09a-a46f5bacf6d0",
   "metadata": {},
   "outputs": [],
   "source": [
    "df = pd.read_csv(r\"C:\\Users\\Admin\\Documents\\Jupyter Notebook\\Machine Learning (CampusX)\\Dataset\\covid_toy.csv\")"
   ]
  },
  {
   "cell_type": "code",
   "execution_count": 5,
   "id": "7b5af778-8e7e-4a2e-8c2d-1146cd20c115",
   "metadata": {},
   "outputs": [
    {
     "data": {
      "text/html": [
       "<div>\n",
       "<style scoped>\n",
       "    .dataframe tbody tr th:only-of-type {\n",
       "        vertical-align: middle;\n",
       "    }\n",
       "\n",
       "    .dataframe tbody tr th {\n",
       "        vertical-align: top;\n",
       "    }\n",
       "\n",
       "    .dataframe thead th {\n",
       "        text-align: right;\n",
       "    }\n",
       "</style>\n",
       "<table border=\"1\" class=\"dataframe\">\n",
       "  <thead>\n",
       "    <tr style=\"text-align: right;\">\n",
       "      <th></th>\n",
       "      <th>age</th>\n",
       "      <th>gender</th>\n",
       "      <th>fever</th>\n",
       "      <th>cough</th>\n",
       "      <th>city</th>\n",
       "      <th>has_covid</th>\n",
       "    </tr>\n",
       "  </thead>\n",
       "  <tbody>\n",
       "    <tr>\n",
       "      <th>0</th>\n",
       "      <td>60</td>\n",
       "      <td>Male</td>\n",
       "      <td>103.0</td>\n",
       "      <td>Mild</td>\n",
       "      <td>Kolkata</td>\n",
       "      <td>No</td>\n",
       "    </tr>\n",
       "    <tr>\n",
       "      <th>1</th>\n",
       "      <td>27</td>\n",
       "      <td>Male</td>\n",
       "      <td>100.0</td>\n",
       "      <td>Mild</td>\n",
       "      <td>Delhi</td>\n",
       "      <td>Yes</td>\n",
       "    </tr>\n",
       "    <tr>\n",
       "      <th>2</th>\n",
       "      <td>42</td>\n",
       "      <td>Male</td>\n",
       "      <td>101.0</td>\n",
       "      <td>Mild</td>\n",
       "      <td>Delhi</td>\n",
       "      <td>No</td>\n",
       "    </tr>\n",
       "    <tr>\n",
       "      <th>3</th>\n",
       "      <td>31</td>\n",
       "      <td>Female</td>\n",
       "      <td>98.0</td>\n",
       "      <td>Mild</td>\n",
       "      <td>Kolkata</td>\n",
       "      <td>No</td>\n",
       "    </tr>\n",
       "    <tr>\n",
       "      <th>4</th>\n",
       "      <td>65</td>\n",
       "      <td>Female</td>\n",
       "      <td>101.0</td>\n",
       "      <td>Mild</td>\n",
       "      <td>Mumbai</td>\n",
       "      <td>No</td>\n",
       "    </tr>\n",
       "  </tbody>\n",
       "</table>\n",
       "</div>"
      ],
      "text/plain": [
       "   age  gender  fever cough     city has_covid\n",
       "0   60    Male  103.0  Mild  Kolkata        No\n",
       "1   27    Male  100.0  Mild    Delhi       Yes\n",
       "2   42    Male  101.0  Mild    Delhi        No\n",
       "3   31  Female   98.0  Mild  Kolkata        No\n",
       "4   65  Female  101.0  Mild   Mumbai        No"
      ]
     },
     "execution_count": 5,
     "metadata": {},
     "output_type": "execute_result"
    }
   ],
   "source": [
    "df.head()"
   ]
  },
  {
   "cell_type": "code",
   "execution_count": 11,
   "id": "0cd8f62d-8db3-4277-b976-6d3996e2251e",
   "metadata": {},
   "outputs": [
    {
     "data": {
      "text/plain": [
       "age           0\n",
       "gender        0\n",
       "fever        10\n",
       "cough         0\n",
       "city          0\n",
       "has_covid     0\n",
       "dtype: int64"
      ]
     },
     "execution_count": 11,
     "metadata": {},
     "output_type": "execute_result"
    }
   ],
   "source": [
    "df.isnull().sum()"
   ]
  },
  {
   "cell_type": "code",
   "execution_count": 12,
   "id": "b93ceb07-a0b0-4cc9-9901-8711988b1108",
   "metadata": {},
   "outputs": [],
   "source": [
    "X_train,X_test,y_train,y_test = train_test_split(df.drop(['has_covid'],axis=1),df['has_covid'],test_size=0.2,\n",
    "                                                 random_state=2)"
   ]
  },
  {
   "cell_type": "code",
   "execution_count": 13,
   "id": "e0cd61f8-012b-417d-af72-f21e1d7a3a53",
   "metadata": {},
   "outputs": [
    {
     "data": {
      "text/plain": [
       "((80, 5), (20, 5))"
      ]
     },
     "execution_count": 13,
     "metadata": {},
     "output_type": "execute_result"
    }
   ],
   "source": [
    "X_train.shape,X_test.shape"
   ]
  },
  {
   "cell_type": "markdown",
   "id": "a062e605-f547-4d7e-a46d-ff93dcc35159",
   "metadata": {},
   "source": [
    "## Columns\n",
    "1. gender - ohe\n",
    "2. fever - fill values\n",
    "3. cough - ordinal\n",
    "4. city - ohe\n",
    "5. has_covid= label"
   ]
  },
  {
   "cell_type": "markdown",
   "id": "ec56dfa1-2652-4c66-ba1b-aebb81ee9b50",
   "metadata": {},
   "source": [
    "## 1. Aam zindagi"
   ]
  },
  {
   "cell_type": "code",
   "execution_count": 15,
   "id": "71e3f28c-d79b-4272-978b-77ad02436c97",
   "metadata": {},
   "outputs": [
    {
     "data": {
      "text/plain": [
       "(80, 1)"
      ]
     },
     "execution_count": 15,
     "metadata": {},
     "output_type": "execute_result"
    }
   ],
   "source": [
    "# Fever - adding simple imputer to fever column\n",
    "si = SimpleImputer()\n",
    "\n",
    "X_train_fever = si.fit_transform(X_train[['fever']])\n",
    "\n",
    "# also x test\n",
    "X_test_fever = si.fit_transform(X_test[['fever']])\n",
    "\n",
    "X_train_fever.shape"
   ]
  },
  {
   "cell_type": "code",
   "execution_count": 16,
   "id": "ad262cd7-376a-49c8-b307-520e0371e8a2",
   "metadata": {},
   "outputs": [],
   "source": [
    "## Cough <-- Ordinal\n",
    "oe = OrdinalEncoder(categories=[['Mild','Strong']])\n",
    "X_train_cough = oe.fit_transform(X_train[['cough']])\n",
    "X_test_cough = oe.fit_transform(X_test[['cough']])"
   ]
  },
  {
   "cell_type": "code",
   "execution_count": 21,
   "id": "433cec0c-11e7-4920-8069-9b3473204213",
   "metadata": {},
   "outputs": [
    {
     "data": {
      "text/plain": [
       "(80, 4)"
      ]
     },
     "execution_count": 21,
     "metadata": {},
     "output_type": "execute_result"
    }
   ],
   "source": [
    "## Gender\n",
    "ohe = OneHotEncoder(drop='first',sparse_output=False)\n",
    "X_train_gender_city = ohe.fit_transform(X_train[['gender','city']])\n",
    "X_test_gender_city = ohe.fit_transform(X_test[['gender','city']])\n",
    "X_train_gender_city.shape"
   ]
  },
  {
   "cell_type": "markdown",
   "id": "df3709a0-4a7f-4b7f-b780-5efb4526ed1d",
   "metadata": {},
   "source": [
    "After encoding, you won’t have the original Gender column anymore.\n",
    "Instead, you'll have a new column called something like Gender_Male (assuming \"Female\" was dropped).\n",
    "The Gender_Male column will have a value of 1 if the gender is \"Male\" and 0 if it's \"Female\".\n",
    "So, you’ll end up with only one new column after encoding (Gender_Male), not two. This avoids multicollinearity because we don’t have two columns representing \"Male\" and \"Female\" at the same time.\n",
    "\n"
   ]
  },
  {
   "cell_type": "code",
   "execution_count": 22,
   "id": "8f51c26b-e9d9-442a-8743-89cd515c2fa2",
   "metadata": {},
   "outputs": [],
   "source": [
    "## Extracting age from X_train\n",
    "X_train_age = X_train.drop(columns=['gender','fever','cough','city']).values\n",
    "\n",
    "## Also test\n",
    "X_test_age = X_test.drop(columns=['gender','fever','cough','city']).values"
   ]
  },
  {
   "cell_type": "code",
   "execution_count": 23,
   "id": "4d27ff2e-4bb9-40af-9103-9b9be227617b",
   "metadata": {},
   "outputs": [
    {
     "data": {
      "text/plain": [
       "array([[82],\n",
       "       [65],\n",
       "       [69],\n",
       "       [20],\n",
       "       [34],\n",
       "       [84],\n",
       "       [23],\n",
       "       [ 8],\n",
       "       [34],\n",
       "       [56],\n",
       "       [69],\n",
       "       [27],\n",
       "       [64],\n",
       "       [66],\n",
       "       [38],\n",
       "       [11],\n",
       "       [14],\n",
       "       [46],\n",
       "       [38],\n",
       "       [75],\n",
       "       [25],\n",
       "       [83],\n",
       "       [47],\n",
       "       [60],\n",
       "       [12],\n",
       "       [34],\n",
       "       [42],\n",
       "       [19],\n",
       "       [24],\n",
       "       [81],\n",
       "       [64],\n",
       "       [51],\n",
       "       [40],\n",
       "       [ 6],\n",
       "       [49],\n",
       "       [82],\n",
       "       [42],\n",
       "       [72],\n",
       "       [20],\n",
       "       [19],\n",
       "       [75],\n",
       "       [79],\n",
       "       [59],\n",
       "       [ 5],\n",
       "       [25],\n",
       "       [14],\n",
       "       [19],\n",
       "       [47],\n",
       "       [51],\n",
       "       [ 5],\n",
       "       [68],\n",
       "       [19],\n",
       "       [54],\n",
       "       [73],\n",
       "       [65],\n",
       "       [23],\n",
       "       [26],\n",
       "       [49],\n",
       "       [11],\n",
       "       [27],\n",
       "       [65],\n",
       "       [65],\n",
       "       [50],\n",
       "       [55],\n",
       "       [12],\n",
       "       [83],\n",
       "       [10],\n",
       "       [18],\n",
       "       [16],\n",
       "       [27],\n",
       "       [44],\n",
       "       [74],\n",
       "       [20],\n",
       "       [ 5],\n",
       "       [24],\n",
       "       [22],\n",
       "       [71],\n",
       "       [83],\n",
       "       [70],\n",
       "       [49]], dtype=int64)"
      ]
     },
     "execution_count": 23,
     "metadata": {},
     "output_type": "execute_result"
    }
   ],
   "source": [
    "X_train_age"
   ]
  },
  {
   "cell_type": "code",
   "execution_count": 25,
   "id": "b2e93ef1-63de-4d6d-9f63-148dd2677da0",
   "metadata": {},
   "outputs": [
    {
     "data": {
      "text/plain": [
       "(80, 7)"
      ]
     },
     "execution_count": 25,
     "metadata": {},
     "output_type": "execute_result"
    }
   ],
   "source": [
    "## Concatenating\n",
    "X_train_transformed = np.concatenate((X_train_age,X_train_gender_city,X_train_fever,X_train_cough),axis=1)\n",
    "# for test\n",
    "X_test_transformed = np.concatenate((X_test_age,X_test_gender_city,X_test_fever,X_test_cough),axis=1)\n",
    "X_train_transformed.shape"
   ]
  },
  {
   "cell_type": "code",
   "execution_count": 26,
   "id": "73506798-1cd2-4965-8fba-6dd02fe10ecb",
   "metadata": {},
   "outputs": [
    {
     "data": {
      "text/plain": [
       "array([[ 82.        ,   0.        ,   0.        ,   0.        ,\n",
       "          0.        , 102.        ,   1.        ],\n",
       "       [ 65.        ,   0.        ,   0.        ,   0.        ,\n",
       "          1.        ,  98.        ,   0.        ],\n",
       "       [ 69.        ,   0.        ,   0.        ,   0.        ,\n",
       "          1.        ,  98.        ,   1.        ],\n",
       "       [ 20.        ,   1.        ,   1.        ,   0.        ,\n",
       "          0.        , 102.        ,   1.        ],\n",
       "       [ 34.        ,   1.        ,   0.        ,   1.        ,\n",
       "          0.        ,  98.        ,   1.        ],\n",
       "       [ 84.        ,   0.        ,   0.        ,   0.        ,\n",
       "          0.        , 100.79166667,   0.        ],\n",
       "       [ 23.        ,   1.        ,   0.        ,   0.        ,\n",
       "          1.        , 100.79166667,   0.        ],\n",
       "       [  8.        ,   0.        ,   0.        ,   1.        ,\n",
       "          0.        , 101.        ,   0.        ],\n",
       "       [ 34.        ,   0.        ,   1.        ,   0.        ,\n",
       "          0.        , 104.        ,   1.        ],\n",
       "       [ 56.        ,   0.        ,   0.        ,   0.        ,\n",
       "          0.        , 104.        ,   1.        ],\n",
       "       [ 69.        ,   0.        ,   0.        ,   0.        ,\n",
       "          0.        , 102.        ,   0.        ],\n",
       "       [ 27.        ,   1.        ,   1.        ,   0.        ,\n",
       "          0.        , 100.        ,   0.        ],\n",
       "       [ 64.        ,   0.        ,   0.        ,   0.        ,\n",
       "          0.        ,  98.        ,   0.        ],\n",
       "       [ 66.        ,   1.        ,   0.        ,   0.        ,\n",
       "          0.        ,  99.        ,   1.        ],\n",
       "       [ 38.        ,   0.        ,   0.        ,   0.        ,\n",
       "          0.        , 101.        ,   0.        ],\n",
       "       [ 11.        ,   1.        ,   0.        ,   0.        ,\n",
       "          0.        , 100.        ,   0.        ],\n",
       "       [ 14.        ,   1.        ,   0.        ,   0.        ,\n",
       "          0.        , 101.        ,   1.        ],\n",
       "       [ 46.        ,   1.        ,   0.        ,   0.        ,\n",
       "          0.        , 103.        ,   1.        ],\n",
       "       [ 38.        ,   1.        ,   1.        ,   0.        ,\n",
       "          0.        , 100.79166667,   0.        ],\n",
       "       [ 75.        ,   0.        ,   1.        ,   0.        ,\n",
       "          0.        , 100.79166667,   0.        ],\n",
       "       [ 25.        ,   0.        ,   0.        ,   1.        ,\n",
       "          0.        ,  99.        ,   1.        ],\n",
       "       [ 83.        ,   1.        ,   1.        ,   0.        ,\n",
       "          0.        ,  98.        ,   0.        ],\n",
       "       [ 47.        ,   1.        ,   0.        ,   0.        ,\n",
       "          0.        , 101.        ,   1.        ],\n",
       "       [ 60.        ,   0.        ,   0.        ,   0.        ,\n",
       "          1.        ,  99.        ,   0.        ],\n",
       "       [ 12.        ,   0.        ,   0.        ,   0.        ,\n",
       "          0.        , 104.        ,   0.        ],\n",
       "       [ 34.        ,   0.        ,   1.        ,   0.        ,\n",
       "          0.        , 101.        ,   1.        ],\n",
       "       [ 42.        ,   0.        ,   0.        ,   0.        ,\n",
       "          0.        , 100.79166667,   1.        ],\n",
       "       [ 19.        ,   0.        ,   0.        ,   1.        ,\n",
       "          0.        , 100.        ,   0.        ],\n",
       "       [ 24.        ,   0.        ,   0.        ,   0.        ,\n",
       "          0.        , 102.        ,   1.        ],\n",
       "       [ 81.        ,   0.        ,   0.        ,   0.        ,\n",
       "          1.        , 101.        ,   0.        ],\n",
       "       [ 64.        ,   0.        ,   1.        ,   0.        ,\n",
       "          0.        , 101.        ,   0.        ],\n",
       "       [ 51.        ,   0.        ,   0.        ,   1.        ,\n",
       "          0.        , 101.        ,   1.        ],\n",
       "       [ 40.        ,   0.        ,   1.        ,   0.        ,\n",
       "          0.        ,  98.        ,   1.        ],\n",
       "       [  6.        ,   0.        ,   0.        ,   1.        ,\n",
       "          0.        , 104.        ,   0.        ],\n",
       "       [ 49.        ,   0.        ,   0.        ,   0.        ,\n",
       "          0.        ,  99.        ,   1.        ],\n",
       "       [ 82.        ,   1.        ,   0.        ,   1.        ,\n",
       "          0.        , 100.79166667,   0.        ],\n",
       "       [ 42.        ,   1.        ,   0.        ,   0.        ,\n",
       "          1.        , 104.        ,   0.        ],\n",
       "       [ 72.        ,   1.        ,   0.        ,   0.        ,\n",
       "          0.        ,  99.        ,   0.        ],\n",
       "       [ 20.        ,   0.        ,   0.        ,   0.        ,\n",
       "          0.        , 101.        ,   0.        ],\n",
       "       [ 19.        ,   0.        ,   0.        ,   0.        ,\n",
       "          0.        , 100.        ,   1.        ],\n",
       "       [ 75.        ,   0.        ,   1.        ,   0.        ,\n",
       "          0.        , 104.        ,   1.        ],\n",
       "       [ 79.        ,   1.        ,   0.        ,   1.        ,\n",
       "          0.        , 100.79166667,   1.        ],\n",
       "       [ 59.        ,   0.        ,   1.        ,   0.        ,\n",
       "          0.        ,  99.        ,   1.        ],\n",
       "       [  5.        ,   0.        ,   0.        ,   0.        ,\n",
       "          1.        ,  98.        ,   1.        ],\n",
       "       [ 25.        ,   1.        ,   0.        ,   0.        ,\n",
       "          0.        , 104.        ,   0.        ],\n",
       "       [ 14.        ,   0.        ,   0.        ,   0.        ,\n",
       "          1.        ,  99.        ,   0.        ],\n",
       "       [ 19.        ,   1.        ,   1.        ,   0.        ,\n",
       "          0.        , 101.        ,   0.        ],\n",
       "       [ 47.        ,   0.        ,   0.        ,   0.        ,\n",
       "          0.        , 100.        ,   1.        ],\n",
       "       [ 51.        ,   1.        ,   0.        ,   1.        ,\n",
       "          0.        , 104.        ,   0.        ],\n",
       "       [  5.        ,   0.        ,   0.        ,   1.        ,\n",
       "          0.        , 100.        ,   0.        ],\n",
       "       [ 68.        ,   0.        ,   1.        ,   0.        ,\n",
       "          0.        , 101.        ,   1.        ],\n",
       "       [ 19.        ,   0.        ,   0.        ,   0.        ,\n",
       "          1.        , 101.        ,   0.        ],\n",
       "       [ 54.        ,   0.        ,   0.        ,   1.        ,\n",
       "          0.        , 104.        ,   1.        ],\n",
       "       [ 73.        ,   0.        ,   1.        ,   0.        ,\n",
       "          0.        , 103.        ,   0.        ],\n",
       "       [ 65.        ,   1.        ,   1.        ,   0.        ,\n",
       "          0.        ,  99.        ,   0.        ],\n",
       "       [ 23.        ,   1.        ,   0.        ,   0.        ,\n",
       "          1.        ,  98.        ,   1.        ],\n",
       "       [ 26.        ,   0.        ,   0.        ,   1.        ,\n",
       "          0.        ,  98.        ,   0.        ],\n",
       "       [ 49.        ,   0.        ,   1.        ,   0.        ,\n",
       "          0.        , 101.        ,   0.        ],\n",
       "       [ 11.        ,   0.        ,   0.        ,   1.        ,\n",
       "          0.        , 100.        ,   1.        ],\n",
       "       [ 27.        ,   1.        ,   1.        ,   0.        ,\n",
       "          0.        , 100.        ,   0.        ],\n",
       "       [ 65.        ,   0.        ,   0.        ,   0.        ,\n",
       "          1.        , 101.        ,   0.        ],\n",
       "       [ 65.        ,   1.        ,   0.        ,   0.        ,\n",
       "          0.        ,  99.        ,   0.        ],\n",
       "       [ 50.        ,   0.        ,   0.        ,   1.        ,\n",
       "          0.        , 103.        ,   0.        ],\n",
       "       [ 55.        ,   1.        ,   0.        ,   1.        ,\n",
       "          0.        , 100.        ,   0.        ],\n",
       "       [ 12.        ,   1.        ,   0.        ,   0.        ,\n",
       "          0.        ,  98.        ,   1.        ],\n",
       "       [ 83.        ,   1.        ,   0.        ,   1.        ,\n",
       "          0.        , 103.        ,   0.        ],\n",
       "       [ 10.        ,   1.        ,   0.        ,   0.        ,\n",
       "          0.        , 100.        ,   0.        ],\n",
       "       [ 18.        ,   0.        ,   0.        ,   0.        ,\n",
       "          0.        , 104.        ,   0.        ],\n",
       "       [ 16.        ,   0.        ,   0.        ,   0.        ,\n",
       "          0.        , 103.        ,   0.        ],\n",
       "       [ 27.        ,   1.        ,   0.        ,   1.        ,\n",
       "          0.        , 100.        ,   0.        ],\n",
       "       [ 44.        ,   1.        ,   0.        ,   0.        ,\n",
       "          1.        , 104.        ,   0.        ],\n",
       "       [ 74.        ,   1.        ,   0.        ,   0.        ,\n",
       "          1.        , 102.        ,   0.        ],\n",
       "       [ 20.        ,   0.        ,   0.        ,   0.        ,\n",
       "          1.        , 100.79166667,   1.        ],\n",
       "       [  5.        ,   1.        ,   0.        ,   1.        ,\n",
       "          0.        , 102.        ,   0.        ],\n",
       "       [ 24.        ,   1.        ,   0.        ,   1.        ,\n",
       "          0.        ,  98.        ,   0.        ],\n",
       "       [ 22.        ,   0.        ,   0.        ,   0.        ,\n",
       "          0.        ,  99.        ,   0.        ],\n",
       "       [ 71.        ,   0.        ,   0.        ,   1.        ,\n",
       "          0.        ,  98.        ,   1.        ],\n",
       "       [ 83.        ,   0.        ,   0.        ,   1.        ,\n",
       "          0.        , 101.        ,   0.        ],\n",
       "       [ 70.        ,   1.        ,   0.        ,   1.        ,\n",
       "          0.        , 103.        ,   1.        ],\n",
       "       [ 49.        ,   0.        ,   1.        ,   0.        ,\n",
       "          0.        , 102.        ,   0.        ]])"
      ]
     },
     "execution_count": 26,
     "metadata": {},
     "output_type": "execute_result"
    }
   ],
   "source": [
    "X_train_transformed"
   ]
  },
  {
   "cell_type": "markdown",
   "id": "8aa47529-cdb3-4b30-8dfb-6df97cbeefe0",
   "metadata": {},
   "source": [
    "## Mentos Zindagi"
   ]
  },
  {
   "cell_type": "code",
   "execution_count": 36,
   "id": "fc0f17ea-379c-46e3-b7f8-8ab7a1930d58",
   "metadata": {},
   "outputs": [],
   "source": [
    "from sklearn.compose import ColumnTransformer"
   ]
  },
  {
   "cell_type": "code",
   "execution_count": 40,
   "id": "f731a949-1b48-4e2b-a9da-0ab290217efd",
   "metadata": {},
   "outputs": [],
   "source": [
    "transformer = ColumnTransformer(transformers=[\n",
    "    ('trf1',SimpleImputer(),['fever']),\n",
    "    ('trf2',OrdinalEncoder(categories=[['Mild','Strong']]),['cough']),\n",
    "    ('trf3',OneHotEncoder(drop='first',sparse_output=False),['gender','city'])\n",
    "],remainder='passthrough')"
   ]
  },
  {
   "cell_type": "code",
   "execution_count": 42,
   "id": "9fb273b6-3ae1-458d-8c19-a2ae6335fd81",
   "metadata": {},
   "outputs": [
    {
     "data": {
      "text/plain": [
       "(80, 7)"
      ]
     },
     "execution_count": 42,
     "metadata": {},
     "output_type": "execute_result"
    }
   ],
   "source": [
    "transformer.fit_transform(X_train).shape"
   ]
  },
  {
   "cell_type": "code",
   "execution_count": 44,
   "id": "169e47b0-9cbd-4fa8-8482-569367348df2",
   "metadata": {},
   "outputs": [
    {
     "data": {
      "text/plain": [
       "(20, 7)"
      ]
     },
     "execution_count": 44,
     "metadata": {},
     "output_type": "execute_result"
    }
   ],
   "source": [
    "transformer.fit_transform(X_test).shape"
   ]
  },
  {
   "cell_type": "code",
   "execution_count": 39,
   "id": "9f922845-5470-4454-85db-9575745d0729",
   "metadata": {},
   "outputs": [
    {
     "data": {
      "text/html": [
       "<div>\n",
       "<style scoped>\n",
       "    .dataframe tbody tr th:only-of-type {\n",
       "        vertical-align: middle;\n",
       "    }\n",
       "\n",
       "    .dataframe tbody tr th {\n",
       "        vertical-align: top;\n",
       "    }\n",
       "\n",
       "    .dataframe thead th {\n",
       "        text-align: right;\n",
       "    }\n",
       "</style>\n",
       "<table border=\"1\" class=\"dataframe\">\n",
       "  <thead>\n",
       "    <tr style=\"text-align: right;\">\n",
       "      <th></th>\n",
       "      <th>age</th>\n",
       "      <th>gender</th>\n",
       "      <th>fever</th>\n",
       "      <th>cough</th>\n",
       "      <th>city</th>\n",
       "    </tr>\n",
       "  </thead>\n",
       "  <tbody>\n",
       "    <tr>\n",
       "      <th>35</th>\n",
       "      <td>82</td>\n",
       "      <td>Female</td>\n",
       "      <td>102.0</td>\n",
       "      <td>Strong</td>\n",
       "      <td>Bangalore</td>\n",
       "    </tr>\n",
       "    <tr>\n",
       "      <th>11</th>\n",
       "      <td>65</td>\n",
       "      <td>Female</td>\n",
       "      <td>98.0</td>\n",
       "      <td>Mild</td>\n",
       "      <td>Mumbai</td>\n",
       "    </tr>\n",
       "    <tr>\n",
       "      <th>84</th>\n",
       "      <td>69</td>\n",
       "      <td>Female</td>\n",
       "      <td>98.0</td>\n",
       "      <td>Strong</td>\n",
       "      <td>Mumbai</td>\n",
       "    </tr>\n",
       "    <tr>\n",
       "      <th>44</th>\n",
       "      <td>20</td>\n",
       "      <td>Male</td>\n",
       "      <td>102.0</td>\n",
       "      <td>Strong</td>\n",
       "      <td>Delhi</td>\n",
       "    </tr>\n",
       "    <tr>\n",
       "      <th>73</th>\n",
       "      <td>34</td>\n",
       "      <td>Male</td>\n",
       "      <td>98.0</td>\n",
       "      <td>Strong</td>\n",
       "      <td>Kolkata</td>\n",
       "    </tr>\n",
       "    <tr>\n",
       "      <th>...</th>\n",
       "      <td>...</td>\n",
       "      <td>...</td>\n",
       "      <td>...</td>\n",
       "      <td>...</td>\n",
       "      <td>...</td>\n",
       "    </tr>\n",
       "    <tr>\n",
       "      <th>43</th>\n",
       "      <td>22</td>\n",
       "      <td>Female</td>\n",
       "      <td>99.0</td>\n",
       "      <td>Mild</td>\n",
       "      <td>Bangalore</td>\n",
       "    </tr>\n",
       "    <tr>\n",
       "      <th>22</th>\n",
       "      <td>71</td>\n",
       "      <td>Female</td>\n",
       "      <td>98.0</td>\n",
       "      <td>Strong</td>\n",
       "      <td>Kolkata</td>\n",
       "    </tr>\n",
       "    <tr>\n",
       "      <th>72</th>\n",
       "      <td>83</td>\n",
       "      <td>Female</td>\n",
       "      <td>101.0</td>\n",
       "      <td>Mild</td>\n",
       "      <td>Kolkata</td>\n",
       "    </tr>\n",
       "    <tr>\n",
       "      <th>15</th>\n",
       "      <td>70</td>\n",
       "      <td>Male</td>\n",
       "      <td>103.0</td>\n",
       "      <td>Strong</td>\n",
       "      <td>Kolkata</td>\n",
       "    </tr>\n",
       "    <tr>\n",
       "      <th>40</th>\n",
       "      <td>49</td>\n",
       "      <td>Female</td>\n",
       "      <td>102.0</td>\n",
       "      <td>Mild</td>\n",
       "      <td>Delhi</td>\n",
       "    </tr>\n",
       "  </tbody>\n",
       "</table>\n",
       "<p>80 rows × 5 columns</p>\n",
       "</div>"
      ],
      "text/plain": [
       "    age  gender  fever   cough       city\n",
       "35   82  Female  102.0  Strong  Bangalore\n",
       "11   65  Female   98.0    Mild     Mumbai\n",
       "84   69  Female   98.0  Strong     Mumbai\n",
       "44   20    Male  102.0  Strong      Delhi\n",
       "73   34    Male   98.0  Strong    Kolkata\n",
       "..  ...     ...    ...     ...        ...\n",
       "43   22  Female   99.0    Mild  Bangalore\n",
       "22   71  Female   98.0  Strong    Kolkata\n",
       "72   83  Female  101.0    Mild    Kolkata\n",
       "15   70    Male  103.0  Strong    Kolkata\n",
       "40   49  Female  102.0    Mild      Delhi\n",
       "\n",
       "[80 rows x 5 columns]"
      ]
     },
     "execution_count": 39,
     "metadata": {},
     "output_type": "execute_result"
    }
   ],
   "source": [
    "X_train"
   ]
  },
  {
   "cell_type": "code",
   "execution_count": null,
   "id": "41e3653a-0514-46f3-991a-c34a97bd2cd3",
   "metadata": {},
   "outputs": [],
   "source": []
  }
 ],
 "metadata": {
  "kernelspec": {
   "display_name": "Python 3 (ipykernel)",
   "language": "python",
   "name": "python3"
  },
  "language_info": {
   "codemirror_mode": {
    "name": "ipython",
    "version": 3
   },
   "file_extension": ".py",
   "mimetype": "text/x-python",
   "name": "python",
   "nbconvert_exporter": "python",
   "pygments_lexer": "ipython3",
   "version": "3.12.6"
  }
 },
 "nbformat": 4,
 "nbformat_minor": 5
}

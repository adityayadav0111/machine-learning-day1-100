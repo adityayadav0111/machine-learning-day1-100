{
 "cells": [
  {
   "cell_type": "markdown",
   "id": "8ed8b380-0624-4a59-8e7c-5854b87bd758",
   "metadata": {},
   "source": [
    "# Feature Engineering\n",
    "- Feature Engineering is the process of using domain knowledge to extract features from raw data. These features can be used to improve the performance of machine learning algorithms.\n",
    "- Its a art and not a science"
   ]
  },
  {
   "cell_type": "markdown",
   "id": "416018b3-e9a9-4ff6-8ac9-485189399f2d",
   "metadata": {},
   "source": [
    "# Types  (TCSE)\n",
    "- FEATURE TRANSFORMATION -\n",
    "      1. Missing Value Imputation\n",
    "      2. Handling Categorical Features\n",
    "      3. Outlier Detection\n",
    "      4. Feature Scailing\n",
    "- FEATURE CONSTRUCTION -   1. One-Hot-encode, Binning (Numerical ---bins mein)\n",
    "- FEATURE SELECTION -\n",
    "- FEATURE EXTRACTION -\n"
   ]
  },
  {
   "cell_type": "code",
   "execution_count": null,
   "id": "7ae7c46b-a457-45e5-a545-5464656842f6",
   "metadata": {},
   "outputs": [],
   "source": [
    "\n"
   ]
  },
  {
   "cell_type": "code",
   "execution_count": null,
   "id": "4d33fe4b-14fe-4006-a89a-43182b795602",
   "metadata": {},
   "outputs": [],
   "source": []
  },
  {
   "cell_type": "code",
   "execution_count": null,
   "id": "3a12bd03-809c-4887-8138-0079efa33a55",
   "metadata": {},
   "outputs": [],
   "source": []
  },
  {
   "cell_type": "code",
   "execution_count": null,
   "id": "c42e7d8e-31d1-43ef-8553-e77b4fd8d1dc",
   "metadata": {},
   "outputs": [],
   "source": []
  },
  {
   "cell_type": "code",
   "execution_count": null,
   "id": "9402758b-5539-4c66-9ff2-09b10e1c4006",
   "metadata": {},
   "outputs": [],
   "source": []
  },
  {
   "cell_type": "code",
   "execution_count": null,
   "id": "6ddaed84-af57-438e-9f73-e8abd4046f60",
   "metadata": {},
   "outputs": [],
   "source": []
  },
  {
   "cell_type": "code",
   "execution_count": null,
   "id": "03ff0da1-5e41-4039-b6b6-7d7c158f0cc6",
   "metadata": {},
   "outputs": [],
   "source": []
  },
  {
   "cell_type": "code",
   "execution_count": null,
   "id": "3be0cc79-f803-4061-9938-ae9bfd351338",
   "metadata": {},
   "outputs": [],
   "source": []
  },
  {
   "cell_type": "code",
   "execution_count": null,
   "id": "ba7a387f-9c1f-4920-ba14-9e7fa1087bbe",
   "metadata": {},
   "outputs": [],
   "source": []
  },
  {
   "cell_type": "code",
   "execution_count": null,
   "id": "a2c81619-b14c-45d0-8a65-35086036815d",
   "metadata": {},
   "outputs": [],
   "source": []
  },
  {
   "cell_type": "code",
   "execution_count": null,
   "id": "214d3a8c-8785-4719-ae88-476e2dee15a4",
   "metadata": {},
   "outputs": [],
   "source": []
  },
  {
   "cell_type": "code",
   "execution_count": null,
   "id": "c38dc1e4-6063-4f6e-8afd-f9737fba0d66",
   "metadata": {},
   "outputs": [],
   "source": []
  },
  {
   "cell_type": "code",
   "execution_count": null,
   "id": "a6d74f9b-6672-413b-827a-c9a350204cf4",
   "metadata": {},
   "outputs": [],
   "source": []
  },
  {
   "cell_type": "code",
   "execution_count": null,
   "id": "7fa1e811-18da-4d11-ba97-fad2592c1cd0",
   "metadata": {},
   "outputs": [],
   "source": []
  }
 ],
 "metadata": {
  "kernelspec": {
   "display_name": "Python 3 (ipykernel)",
   "language": "python",
   "name": "python3"
  },
  "language_info": {
   "codemirror_mode": {
    "name": "ipython",
    "version": 3
   },
   "file_extension": ".py",
   "mimetype": "text/x-python",
   "name": "python",
   "nbconvert_exporter": "python",
   "pygments_lexer": "ipython3",
   "version": "3.12.6"
  }
 },
 "nbformat": 4,
 "nbformat_minor": 5
}

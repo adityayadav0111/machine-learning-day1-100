{
 "cells": [
  {
   "cell_type": "markdown",
   "id": "d843c959-249f-462a-b368-fdc7dcddf292",
   "metadata": {},
   "source": [
    "### Application"
   ]
  },
  {
   "cell_type": "markdown",
   "id": "460b548a-3fb6-4b05-9974-f12aaf7c659d",
   "metadata": {},
   "source": [
    "#### 1. B2B"
   ]
  },
  {
   "cell_type": "markdown",
   "id": "9be8f8d1-218e-4500-950b-714d1a8c7e90",
   "metadata": {},
   "source": [
    "A. Retail  - Amazon/Big Bazaar/Spencer's\n",
    "- They sell number of the customers.\n",
    "- Targeted Marketing\n",
    "- If you are not the paying for the product then you are the product.\n",
    "- Used association Rule based Algo"
   ]
  },
  {
   "cell_type": "markdown",
   "id": "e4071e82-18bd-4ebb-95ab-a1da26bca879",
   "metadata": {},
   "source": [
    "B. Banking - Loan\n",
    "- Share Market/ Insurance"
   ]
  },
  {
   "cell_type": "markdown",
   "id": "87462e9c-6c91-4f57-8ec6-b143049bd20f",
   "metadata": {},
   "source": [
    "C. Transport - OLA\n",
    "- Search Pricing"
   ]
  },
  {
   "cell_type": "markdown",
   "id": "cde32edb-c7a8-45a7-a0ce-8469395ca618",
   "metadata": {},
   "source": [
    "4. Manufacturing - Tesla\n",
    "- Automation\n",
    "- IoT devices used in this automation\n",
    "- Predictive Maintainence"
   ]
  },
  {
   "cell_type": "markdown",
   "id": "aaedf864-87e1-4654-9e8a-bafc917ddc58",
   "metadata": {},
   "source": [
    "5. Consumer Internet - Twitter\n",
    "- Did Sentiment Analysis on Tweet\n",
    "- sell this data to finance/consulting company"
   ]
  },
  {
   "cell_type": "markdown",
   "id": "d629fb1b-7fc4-43fd-8912-a70587fb241f",
   "metadata": {},
   "source": [
    "Link: https://youtu.be/UZio8TcTMrI?si=6RYy_yuOdp76auqf"
   ]
  },
  {
   "cell_type": "code",
   "execution_count": null,
   "id": "872413fe-1a2a-41c0-aacd-e2c2cc029213",
   "metadata": {},
   "outputs": [],
   "source": []
  }
 ],
 "metadata": {
  "kernelspec": {
   "display_name": "Python 3 (ipykernel)",
   "language": "python",
   "name": "python3"
  },
  "language_info": {
   "codemirror_mode": {
    "name": "ipython",
    "version": 3
   },
   "file_extension": ".py",
   "mimetype": "text/x-python",
   "name": "python",
   "nbconvert_exporter": "python",
   "pygments_lexer": "ipython3",
   "version": "3.12.4"
  }
 },
 "nbformat": 4,
 "nbformat_minor": 5
}

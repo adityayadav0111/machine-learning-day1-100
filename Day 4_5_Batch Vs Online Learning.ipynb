{
 "cells": [
  {
   "cell_type": "markdown",
   "id": "10ee5322-d616-437f-97d0-29921040e6f8",
   "metadata": {},
   "source": [
    "### Production:\n",
    "The server on which code will run."
   ]
  },
  {
   "cell_type": "markdown",
   "id": "904e6423-6bf5-4682-b9a5-6f228374eb88",
   "metadata": {},
   "source": [
    "#### Production and Development Environment:\n",
    "When we code for Ml algo then it is DE.\n",
    "When it is deployed then PE"
   ]
  },
  {
   "cell_type": "markdown",
   "id": "63a65780-4204-436e-997c-5db0d6599fc8",
   "metadata": {},
   "source": [
    "#### 1. Batch/Offline ML"
   ]
  },
  {
   "cell_type": "markdown",
   "id": "afa38162-a0a4-40de-aeac-4e008955c560",
   "metadata": {},
   "source": [
    "- Entire Lot of Data is trained in on go and thats why its done in offline setting.\n",
    "- Needs to train the model again again\n",
    "- Need to update data periodically."
   ]
  },
  {
   "cell_type": "markdown",
   "id": "21043531-b603-4c7b-ac6e-0ed313bc15c9",
   "metadata": {},
   "source": [
    "#### Diadavnatage:\n",
    "1. Lots of Data\n",
    "2. Hardware Limitation\n",
    "3. Availability"
   ]
  },
  {
   "cell_type": "markdown",
   "id": "cb352386-860b-40af-9d4e-28ce1d3bc005",
   "metadata": {},
   "source": [
    "#### 2. Online Learning"
   ]
  },
  {
   "cell_type": "markdown",
   "id": "64351f81-dcef-4601-9fea-505e5d84d431",
   "metadata": {},
   "source": [
    "- Trained Incrementally i.e small small batches sequentially learning\n",
    "- It predicts and learn on server dynamically\n",
    "- Since batches are small they can be trained on server since it cost less thats why its called online "
   ]
  },
  {
   "cell_type": "markdown",
   "id": "6916622c-8945-4c55-b189-7a107e052f87",
   "metadata": {},
   "source": [
    "#### Examples:\n",
    "1. Chatbot\n",
    "2. Youtube"
   ]
  },
  {
   "cell_type": "markdown",
   "id": "912f7a36-3e46-4c49-ad9d-799155ffa8b0",
   "metadata": {},
   "source": [
    "### Use:\n",
    "1. Where there is a concept drift\n",
    "2. Cost effective\n",
    "3. Faster solution"
   ]
  },
  {
   "cell_type": "markdown",
   "id": "28f2e454-3d6b-4c6f-8579-2342e18e0a0e",
   "metadata": {},
   "source": [
    "#### Learning Rate"
   ]
  },
  {
   "cell_type": "markdown",
   "id": "6aa89592-97b8-4f61-9d1d-7671ba7b18c2",
   "metadata": {},
   "source": [
    "The speed at which we want the model to learn from incoming data"
   ]
  },
  {
   "cell_type": "markdown",
   "id": "8f21d2a4-7110-4ff9-bd93-4b4185fe719f",
   "metadata": {},
   "source": [
    "#### Out of Core Learning"
   ]
  },
  {
   "cell_type": "markdown",
   "id": "d323f55a-1f4f-4bf1-ad10-d23370256e47",
   "metadata": {},
   "source": [
    "- The data is so huge that it cannot be loaded in memory \n",
    "- data is divided into small batches and then modelled and then trained and deployed on server then.\n",
    "- This is done offline but technique used here is online"
   ]
  },
  {
   "cell_type": "markdown",
   "id": "ae2b6c58-b116-460f-9750-bb2a2b91fef3",
   "metadata": {},
   "source": [
    "#### Diadavantage\n",
    "1. Tricky to use\n",
    "2. Risky"
   ]
  },
  {
   "cell_type": "markdown",
   "id": "34654a2b-19c1-4fd0-a087-924997c10a0a",
   "metadata": {},
   "source": [
    "Link: https://youtu.be/nPrhFxEuTYU?si=CrYPLQZFqlvOp0jE\n",
    "Link: https://youtu.be/3oOipgCbLIk?si=pwdBu4xScYuKwGK4"
   ]
  },
  {
   "cell_type": "code",
   "execution_count": null,
   "id": "7b7c453e-2e3e-4577-bfee-4f40dba1fe4b",
   "metadata": {},
   "outputs": [],
   "source": []
  }
 ],
 "metadata": {
  "kernelspec": {
   "display_name": "Python 3 (ipykernel)",
   "language": "python",
   "name": "python3"
  },
  "language_info": {
   "codemirror_mode": {
    "name": "ipython",
    "version": 3
   },
   "file_extension": ".py",
   "mimetype": "text/x-python",
   "name": "python",
   "nbconvert_exporter": "python",
   "pygments_lexer": "ipython3",
   "version": "3.12.4"
  }
 },
 "nbformat": 4,
 "nbformat_minor": 5
}

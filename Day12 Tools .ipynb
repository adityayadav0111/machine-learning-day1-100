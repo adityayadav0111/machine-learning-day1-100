{
 "cells": [
  {
   "cell_type": "markdown",
   "id": "7a58297f-5152-454d-a852-03573a0c1aa9",
   "metadata": {},
   "source": [
    "## Anaconda  distribution\n",
    "- Spyder\n",
    "- Jupyter Notebook\n",
    "- Pycharm"
   ]
  },
  {
   "cell_type": "markdown",
   "id": "f7a27029-7f4a-4091-9fe8-421f9064bdfd",
   "metadata": {},
   "source": [
    "Use HTML for coloring heading"
   ]
  },
  {
   "cell_type": "markdown",
   "id": "ef183e13-2820-4475-ac56-ed29f5d1189b",
   "metadata": {},
   "source": [
    "<p style='color:red'>  Hello Aditya   </p>"
   ]
  },
  {
   "cell_type": "markdown",
   "id": "487e91d4-7e6b-47f0-8ce6-925cbd4b33d5",
   "metadata": {},
   "source": [
    "### Virtual Environment"
   ]
  },
  {
   "cell_type": "raw",
   "id": "7edeb5d6-0371-4052-b90b-366fd754a9d8",
   "metadata": {},
   "source": [
    "## 1st way\n",
    "anaconda navigator ---- environment- we can create"
   ]
  },
  {
   "cell_type": "markdown",
   "id": "d9303eac-5bab-410f-9def-32b0696edb9d",
   "metadata": {},
   "source": [
    "### 2nd Way\n",
    "anaconda powershell prompt --- conda create --name campusx  then conda activate campusx ---install jupyter notebook conda install -c anaconda jupyter-- conda install numpy"
   ]
  },
  {
   "cell_type": "markdown",
   "id": "b9267b73-95a9-4c4d-b2eb-3b9c1a774595",
   "metadata": {},
   "source": [
    "to dectivate = conda deactivate"
   ]
  },
  {
   "cell_type": "code",
   "execution_count": null,
   "id": "43b166c5-e72b-417b-95bb-161da3f975d8",
   "metadata": {},
   "outputs": [],
   "source": [
    "to delete environment = conda remove --name campusx --all"
   ]
  },
  {
   "cell_type": "markdown",
   "id": "769c46c4-d025-4cbc-8876-3d6d43b1e5b1",
   "metadata": {},
   "source": [
    "### Using Kaggle"
   ]
  },
  {
   "cell_type": "markdown",
   "id": "4bdf28eb-8ee3-4014-a0d4-5337af58d618",
   "metadata": {},
   "source": [
    "### Using Colab\n",
    "#### Transfering file from kaggle\n",
    "1. Kaggle acc- -- api token  (JSON FILE)  --- open Colab  -- upload the file (JSON) --  run ye command\n",
    "2. !mkdir -p ~/ .kaggle\n",
    "3. !cp kaggle.json ~/.kaggle/\n",
    "4. Dataset from kaggle -- copy api command -- use ! before that command\n",
    "5. file will be in the zip form\n",
    "6. use unzip code from chatgpt"
   ]
  },
  {
   "cell_type": "markdown",
   "id": "cbf23c64-0029-4c33-98ba-dd939d7cb54d",
   "metadata": {},
   "source": [
    "link: https://youtu.be/82P5N2m41jE?si=EGqKQDuuoDU45I8u"
   ]
  },
  {
   "cell_type": "code",
   "execution_count": null,
   "id": "27d01fa9-d327-472b-9ec5-8ec969314ba5",
   "metadata": {},
   "outputs": [],
   "source": []
  }
 ],
 "metadata": {
  "kernelspec": {
   "display_name": "Python 3 (ipykernel)",
   "language": "python",
   "name": "python3"
  },
  "language_info": {
   "codemirror_mode": {
    "name": "ipython",
    "version": 3
   },
   "file_extension": ".py",
   "mimetype": "text/x-python",
   "name": "python",
   "nbconvert_exporter": "python",
   "pygments_lexer": "ipython3",
   "version": "3.12.6"
  }
 },
 "nbformat": 4,
 "nbformat_minor": 5
}

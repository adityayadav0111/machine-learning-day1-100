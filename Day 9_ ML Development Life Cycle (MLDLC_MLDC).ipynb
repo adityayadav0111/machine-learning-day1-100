{
 "cells": [
  {
   "cell_type": "markdown",
   "id": "20a0512a-37e8-4dfe-a300-7ccc293090cb",
   "metadata": {},
   "source": [
    "Link: https://youtu.be/iDbhQGz_rEo?si=cIHsImjIiPR4dVnz"
   ]
  },
  {
   "cell_type": "markdown",
   "id": "2f1a25b8-2275-4237-b6dd-b7f9ba203068",
   "metadata": {},
   "source": [
    "### 1. Frame the problem:\n",
    "- Define the problem\n",
    "- create a roadmap for entire data"
   ]
  },
  {
   "cell_type": "markdown",
   "id": "05020d70-6ecc-4ed4-a671-4378d1b39a3e",
   "metadata": {},
   "source": [
    "### 2. Gathering Data\n",
    "1. CSV\n",
    "2. API\n",
    "3. Web scraping\n",
    "4. Database\n",
    "5. Spark - clusters mein"
   ]
  },
  {
   "cell_type": "markdown",
   "id": "b57b0052-7117-46ed-953f-6472398cd845",
   "metadata": {},
   "source": [
    "### 3. Data Preprocessing"
   ]
  },
  {
   "cell_type": "markdown",
   "id": "a0a1b968-05be-4f19-9bfc-1545fa094762",
   "metadata": {},
   "source": [
    "### 4. EDA\n",
    "- Visulaization\n",
    "- Univariate analysis\n",
    "- Bivariate\n",
    "- Multi\n",
    "- outlier Detection\n",
    "- Imbalance"
   ]
  },
  {
   "cell_type": "markdown",
   "id": "3f3c7d77-3fbc-4b04-a7e9-d875a7f222c8",
   "metadata": {},
   "source": [
    "### 5. Feature Engneering and Selection"
   ]
  },
  {
   "cell_type": "markdown",
   "id": "f1c5a6bf-8566-4c73-99df-a4a361749002",
   "metadata": {},
   "source": [
    "### 6. Model Training, Evaulation and Selection\n",
    "- Model Tuning(Parameter)\n",
    "- Hyperparameter Tuning\n",
    "- Ensemble Learning"
   ]
  },
  {
   "cell_type": "markdown",
   "id": "a7060b5e-2e94-40a0-8f2e-4bf034a80f3f",
   "metadata": {},
   "source": [
    "### 8. Deployemnt\n",
    "- Pickle file is binary file"
   ]
  },
  {
   "cell_type": "markdown",
   "id": "d55e3b25-06c3-4ebd-95ba-62f4c48daadb",
   "metadata": {},
   "source": [
    "### 9. Testing (BETA Testing)\n",
    "- AB testing"
   ]
  },
  {
   "cell_type": "markdown",
   "id": "f6861939-6ea5-48e8-9e2f-2c06b305fe46",
   "metadata": {},
   "source": [
    "### 10. Optimize\n",
    "- Backup lena\n",
    "- data\n",
    "- Load balancing\n",
    "- retrain (rotting)"
   ]
  },
  {
   "cell_type": "code",
   "execution_count": null,
   "id": "188a33bd-3ace-4354-bfda-548bd005a628",
   "metadata": {},
   "outputs": [],
   "source": []
  }
 ],
 "metadata": {
  "kernelspec": {
   "display_name": "Python 3 (ipykernel)",
   "language": "python",
   "name": "python3"
  },
  "language_info": {
   "codemirror_mode": {
    "name": "ipython",
    "version": 3
   },
   "file_extension": ".py",
   "mimetype": "text/x-python",
   "name": "python",
   "nbconvert_exporter": "python",
   "pygments_lexer": "ipython3",
   "version": "3.12.4"
  }
 },
 "nbformat": 4,
 "nbformat_minor": 5
}

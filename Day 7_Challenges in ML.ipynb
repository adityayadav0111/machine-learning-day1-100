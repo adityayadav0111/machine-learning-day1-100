{
 "cells": [
  {
   "cell_type": "markdown",
   "id": "a6e6c1e8-b581-4096-a033-75770de2aaff",
   "metadata": {},
   "source": [
    "### Challenges"
   ]
  },
  {
   "cell_type": "markdown",
   "id": "5dc0d7a3-b854-4b56-90fd-1136124f4563",
   "metadata": {},
   "source": [
    "1. Data Collection:    a. API (for Images:Flicker)   b. Web scraping\n",
    "2. Insufficient data/labelled Data\n",
    "3. Non Representative Data: 1. Sampling Noise    2. Sampling Bias   EX. T20 ka\n",
    "4. Poor Quality Data\n",
    "5. Irelevant Features : Garbage In Garbage Out \n",
    "6. Overfitting\n",
    "7. Underfitting\n",
    "8. Software Integration\n",
    "9. Offline Learning / Deployment\n",
    "10. Cost Involved"
   ]
  },
  {
   "cell_type": "markdown",
   "id": "666f9fd7-9037-4f68-ab7b-eb2ada24bde8",
   "metadata": {},
   "source": [
    "link: https://youtu.be/WGUNAJki2S4?si=cplwlYZZm4TuGJiv"
   ]
  },
  {
   "cell_type": "code",
   "execution_count": null,
   "id": "6a4a3bb6-757b-4ede-83c5-047b4e8d5199",
   "metadata": {},
   "outputs": [],
   "source": []
  }
 ],
 "metadata": {
  "kernelspec": {
   "display_name": "Python 3 (ipykernel)",
   "language": "python",
   "name": "python3"
  },
  "language_info": {
   "codemirror_mode": {
    "name": "ipython",
    "version": 3
   },
   "file_extension": ".py",
   "mimetype": "text/x-python",
   "name": "python",
   "nbconvert_exporter": "python",
   "pygments_lexer": "ipython3",
   "version": "3.12.4"
  }
 },
 "nbformat": 4,
 "nbformat_minor": 5
}

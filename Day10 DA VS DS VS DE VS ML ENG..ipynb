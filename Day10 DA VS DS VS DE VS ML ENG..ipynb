{
 "cells": [
  {
   "cell_type": "markdown",
   "id": "c0b64090-def9-46f7-885d-bd4b56c94552",
   "metadata": {},
   "source": [
    "Link : https://youtu.be/93rKZs0MkgU?si=C9dz5MiT60k-AEmm"
   ]
  },
  {
   "cell_type": "markdown",
   "id": "152620a0-b255-4341-a025-cf244bbd13c9",
   "metadata": {},
   "source": [
    "# Angelist\n",
    "link - https://wellfound.com/jobs/2624005-data-analyst"
   ]
  },
  {
   "cell_type": "markdown",
   "id": "3b30bd67-f97e-446d-9bb7-4296391d48b9",
   "metadata": {},
   "source": [
    "1. Data Engineer "
   ]
  },
  {
   "cell_type": "code",
   "execution_count": null,
   "id": "c8a93260-8dd3-49e0-906e-3f08687f6d9c",
   "metadata": {},
   "outputs": [],
   "source": [
    "2. Data Analyst\n",
    "- Past ke trends pe focus karta hai"
   ]
  },
  {
   "cell_type": "code",
   "execution_count": null,
   "id": "60c72213-936f-489e-8c40-990f475e013e",
   "metadata": {},
   "outputs": [],
   "source": [
    "3. Data Scientist/ Descison Scientist\n",
    "- based on past future pe focus karta hai\n",
    "- Full stack guy"
   ]
  },
  {
   "cell_type": "code",
   "execution_count": null,
   "id": "8b15c3df-c1f2-4997-93a4-912ba5d11b65",
   "metadata": {},
   "outputs": [],
   "source": [
    "4. Machine Learning Engineering"
   ]
  },
  {
   "cell_type": "code",
   "execution_count": null,
   "id": "2d2ff798-6543-4439-9794-f84e27f4ea6c",
   "metadata": {},
   "outputs": [],
   "source": []
  },
  {
   "cell_type": "code",
   "execution_count": null,
   "id": "3ccd54b7-0225-41bf-babc-27568a2b9276",
   "metadata": {},
   "outputs": [],
   "source": []
  },
  {
   "cell_type": "code",
   "execution_count": null,
   "id": "42520d88-ea3e-4bf4-9080-650878d0b753",
   "metadata": {},
   "outputs": [],
   "source": []
  },
  {
   "cell_type": "code",
   "execution_count": null,
   "id": "beedbb84-91c2-4ef8-8be1-e50a157ca360",
   "metadata": {},
   "outputs": [],
   "source": []
  },
  {
   "cell_type": "code",
   "execution_count": null,
   "id": "671ab91b-59d3-4e83-ba12-3cdc226f88a1",
   "metadata": {},
   "outputs": [],
   "source": []
  },
  {
   "cell_type": "code",
   "execution_count": null,
   "id": "372ccdcd-9766-412c-bf25-1f2b770ce606",
   "metadata": {},
   "outputs": [],
   "source": []
  }
 ],
 "metadata": {
  "kernelspec": {
   "display_name": "Python 3 (ipykernel)",
   "language": "python",
   "name": "python3"
  },
  "language_info": {
   "codemirror_mode": {
    "name": "ipython",
    "version": 3
   },
   "file_extension": ".py",
   "mimetype": "text/x-python",
   "name": "python",
   "nbconvert_exporter": "python",
   "pygments_lexer": "ipython3",
   "version": "3.12.4"
  }
 },
 "nbformat": 4,
 "nbformat_minor": 5
}

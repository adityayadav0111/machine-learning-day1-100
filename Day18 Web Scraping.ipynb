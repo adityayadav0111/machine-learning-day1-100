{
 "cells": [
  {
   "cell_type": "code",
   "execution_count": 1,
   "id": "d26bdae8-05a8-40bb-a79f-6202ff494e62",
   "metadata": {},
   "outputs": [],
   "source": [
    "### If companies dont provide any api then in that case we refer to web scraping"
   ]
  },
  {
   "cell_type": "code",
   "execution_count": 3,
   "id": "b8100dd1-5c4f-4007-9fbe-94397b69785a",
   "metadata": {},
   "outputs": [],
   "source": [
    "### So see hum kya kar rahe hai - hum website ko bata rahe hai ki hum koi user hai/ person hai but not a bot using above command of header"
   ]
  },
  {
   "cell_type": "markdown",
   "id": "4ef876e1-67c7-4308-8ecf-488417770e0c",
   "metadata": {},
   "source": [
    "Robots.txt - ek text file mein woh file mein name daal dete hai jo koi scrape na sake"
   ]
  },
  {
   "cell_type": "code",
   "execution_count": 2,
   "id": "d81507e6-20ff-43c0-99c3-13d7682d670e",
   "metadata": {},
   "outputs": [],
   "source": [
    "import pandas as pd\n",
    "import requests\n",
    "from bs4 import BeautifulSoup"
   ]
  },
  {
   "cell_type": "markdown",
   "id": "3530d55d-8e25-4b9f-a702-50b14a0130c6",
   "metadata": {},
   "source": [
    "## Webscraping - Ambition Box"
   ]
  },
  {
   "cell_type": "code",
   "execution_count": 4,
   "id": "9901aabe-0729-47af-9a8b-429a6671a43f",
   "metadata": {},
   "outputs": [],
   "source": [
    "headers ={\"User-Agent\":\"Mozilla/5.0 (Macintosh, Tntel Mac OS X 10.14; rv:66.0)\"}\n",
    "webpage = requests.get('https://www.ambitionbox.com/list-of-companies?page=1',headers=headers).text "
   ]
  },
  {
   "cell_type": "code",
   "execution_count": 5,
   "id": "45975fb6-4e3f-419c-8de2-42197de60a1c",
   "metadata": {},
   "outputs": [],
   "source": [
    "# !pip install lxml"
   ]
  },
  {
   "cell_type": "code",
   "execution_count": 6,
   "id": "304dca0e-2209-4b6b-9e60-86ce9c481c60",
   "metadata": {},
   "outputs": [],
   "source": [
    "soup = BeautifulSoup(webpage,'html.parser')   ##lxml is html parser"
   ]
  },
  {
   "cell_type": "code",
   "execution_count": 7,
   "id": "7f36d718-4708-476f-bfe7-081b1b4b21a7",
   "metadata": {},
   "outputs": [],
   "source": [
    "# print(soup.prettify())"
   ]
  },
  {
   "cell_type": "code",
   "execution_count": 10,
   "id": "e7cb1de4-5775-4b71-9f0b-c7a06cbc794d",
   "metadata": {},
   "outputs": [
    {
     "data": {
      "text/plain": [
       "'TCS'"
      ]
     },
     "execution_count": 10,
     "metadata": {},
     "output_type": "execute_result"
    }
   ],
   "source": [
    "soup.find_all('h2')[0].text.strip()"
   ]
  },
  {
   "cell_type": "markdown",
   "id": "ba4edd5b-1069-47eb-a4f0-66d76a1e1889",
   "metadata": {},
   "source": [
    "### Roadmap\n",
    "1. Tags\n",
    "2. Class_\n",
    "3. dataframe\n",
    "4. looping"
   ]
  },
  {
   "cell_type": "code",
   "execution_count": 32,
   "id": "69d62f6d-2d9f-4e60-a5da-678615507151",
   "metadata": {},
   "outputs": [
    {
     "data": {
      "text/plain": [
       "'List of companies in India'"
      ]
     },
     "execution_count": 32,
     "metadata": {},
     "output_type": "execute_result"
    }
   ],
   "source": [
    "soup.find_all('h1')[0].text.strip()"
   ]
  },
  {
   "cell_type": "code",
   "execution_count": 158,
   "id": "136b33ec-5428-4b73-af40-7c17a3744769",
   "metadata": {},
   "outputs": [],
   "source": [
    "# soup.find_all('h2')"
   ]
  },
  {
   "cell_type": "markdown",
   "id": "c5be6c8c-06ea-446e-93b4-054adcdfcc63",
   "metadata": {},
   "source": [
    "## Since it is in list so we need to use loop"
   ]
  },
  {
   "cell_type": "code",
   "execution_count": 41,
   "id": "e5d43716-af9b-4505-97c9-899cde1bac95",
   "metadata": {},
   "outputs": [
    {
     "name": "stdout",
     "output_type": "stream",
     "text": [
      "TCS\n",
      "Accenture\n",
      "Cognizant\n",
      "Wipro\n",
      "Capgemini\n",
      "HDFC Bank\n",
      "ICICI Bank\n",
      "Infosys\n",
      "HCLTech\n",
      "Tech Mahindra\n",
      "Genpact\n",
      "Teleperformance\n",
      "Concentrix Corporation\n",
      "Axis Bank\n",
      "Amazon\n",
      "Jio\n",
      "IBM\n",
      "Reliance Retail\n",
      "HDB Financial Services\n",
      "iEnergizer\n"
     ]
    }
   ],
   "source": [
    "# Companies Name\n",
    "for i in soup.find_all('h2',class_='companyCardWrapper__companyName'):\n",
    "    print(i.text.strip())"
   ]
  },
  {
   "cell_type": "code",
   "execution_count": 48,
   "id": "f3683c32-7f7a-4924-830e-317c58afb80a",
   "metadata": {},
   "outputs": [
    {
     "name": "stdout",
     "output_type": "stream",
     "text": [
      "3.7\n",
      "4.0\n",
      "3.8\n",
      "3.8\n",
      "3.8\n",
      "3.9\n",
      "4.0\n",
      "3.8\n",
      "3.6\n",
      "3.6\n",
      "3.9\n",
      "3.9\n",
      "3.8\n",
      "3.8\n",
      "4.1\n",
      "3.9\n",
      "4.1\n",
      "3.9\n",
      "4.0\n",
      "4.7\n"
     ]
    }
   ],
   "source": [
    "## Rating\n",
    "for i in soup.find_all('span',class_='companyCardWrapper__companyRatingValue'):\n",
    "    print(i.text)"
   ]
  },
  {
   "cell_type": "code",
   "execution_count": 64,
   "id": "918ec275-ef81-45bd-99bd-b720bd777a9d",
   "metadata": {},
   "outputs": [
    {
     "data": {
      "text/plain": [
       "[<span class=\"companyCardWrapper__ActionCount\">81.3k</span>,\n",
       " <span class=\"companyCardWrapper__ActionCount\">8.9L</span>,\n",
       " <span class=\"companyCardWrapper__ActionCount\">9.5k</span>,\n",
       " <span class=\"companyCardWrapper__ActionCount\">36</span>,\n",
       " <span class=\"companyCardWrapper__ActionCount\">11.8k</span>,\n",
       " <span class=\"companyCardWrapper__ActionCount\">85</span>,\n",
       " <span class=\"companyCardWrapper__ActionCount\">50.6k</span>,\n",
       " <span class=\"companyCardWrapper__ActionCount\">6L</span>,\n",
       " <span class=\"companyCardWrapper__ActionCount\">7.2k</span>,\n",
       " <span class=\"companyCardWrapper__ActionCount\">25.5k</span>,\n",
       " <span class=\"companyCardWrapper__ActionCount\">7.3k</span>,\n",
       " <span class=\"companyCardWrapper__ActionCount\">38</span>,\n",
       " <span class=\"companyCardWrapper__ActionCount\">45.8k</span>,\n",
       " <span class=\"companyCardWrapper__ActionCount\">5.8L</span>,\n",
       " <span class=\"companyCardWrapper__ActionCount\">5.1k</span>,\n",
       " <span class=\"companyCardWrapper__ActionCount\">550</span>,\n",
       " <span class=\"companyCardWrapper__ActionCount\">6k</span>,\n",
       " <span class=\"companyCardWrapper__ActionCount\">69</span>,\n",
       " <span class=\"companyCardWrapper__ActionCount\">45.6k</span>,\n",
       " <span class=\"companyCardWrapper__ActionCount\">4.4L</span>,\n",
       " <span class=\"companyCardWrapper__ActionCount\">5k</span>,\n",
       " <span class=\"companyCardWrapper__ActionCount\">710</span>,\n",
       " <span class=\"companyCardWrapper__ActionCount\">5.2k</span>,\n",
       " <span class=\"companyCardWrapper__ActionCount\">86</span>,\n",
       " <span class=\"companyCardWrapper__ActionCount\">37.6k</span>,\n",
       " <span class=\"companyCardWrapper__ActionCount\">4.4L</span>,\n",
       " <span class=\"companyCardWrapper__ActionCount\">4.4k</span>,\n",
       " <span class=\"companyCardWrapper__ActionCount\">1k</span>,\n",
       " <span class=\"companyCardWrapper__ActionCount\">4.1k</span>,\n",
       " <span class=\"companyCardWrapper__ActionCount\">42</span>,\n",
       " <span class=\"companyCardWrapper__ActionCount\">36.5k</span>,\n",
       " <span class=\"companyCardWrapper__ActionCount\">1.4L</span>,\n",
       " <span class=\"companyCardWrapper__ActionCount\">2k</span>,\n",
       " <span class=\"companyCardWrapper__ActionCount\">153</span>,\n",
       " <span class=\"companyCardWrapper__ActionCount\">3.3k</span>,\n",
       " <span class=\"companyCardWrapper__ActionCount\">23</span>,\n",
       " <span class=\"companyCardWrapper__ActionCount\">35.8k</span>,\n",
       " <span class=\"companyCardWrapper__ActionCount\">1.5L</span>,\n",
       " <span class=\"companyCardWrapper__ActionCount\">2.3k</span>,\n",
       " <span class=\"companyCardWrapper__ActionCount\">3</span>,\n",
       " <span class=\"companyCardWrapper__ActionCount\">3.8k</span>,\n",
       " <span class=\"companyCardWrapper__ActionCount\">52</span>,\n",
       " <span class=\"companyCardWrapper__ActionCount\">35.2k</span>,\n",
       " <span class=\"companyCardWrapper__ActionCount\">4.7L</span>,\n",
       " <span class=\"companyCardWrapper__ActionCount\">6.9k</span>,\n",
       " <span class=\"companyCardWrapper__ActionCount\">1.1k</span>,\n",
       " <span class=\"companyCardWrapper__ActionCount\">5.3k</span>,\n",
       " <span class=\"companyCardWrapper__ActionCount\">107</span>,\n",
       " <span class=\"companyCardWrapper__ActionCount\">32.5k</span>,\n",
       " <span class=\"companyCardWrapper__ActionCount\">3.2L</span>,\n",
       " <span class=\"companyCardWrapper__ActionCount\">3.5k</span>,\n",
       " <span class=\"companyCardWrapper__ActionCount\">187</span>,\n",
       " <span class=\"companyCardWrapper__ActionCount\">4.2k</span>,\n",
       " <span class=\"companyCardWrapper__ActionCount\">32</span>,\n",
       " <span class=\"companyCardWrapper__ActionCount\">29.9k</span>,\n",
       " <span class=\"companyCardWrapper__ActionCount\">2.6L</span>,\n",
       " <span class=\"companyCardWrapper__ActionCount\">3.3k</span>,\n",
       " <span class=\"companyCardWrapper__ActionCount\">489</span>,\n",
       " <span class=\"companyCardWrapper__ActionCount\">3.7k</span>,\n",
       " <span class=\"companyCardWrapper__ActionCount\">57</span>,\n",
       " <span class=\"companyCardWrapper__ActionCount\">28.4k</span>,\n",
       " <span class=\"companyCardWrapper__ActionCount\">2L</span>,\n",
       " <span class=\"companyCardWrapper__ActionCount\">2.7k</span>,\n",
       " <span class=\"companyCardWrapper__ActionCount\">340</span>,\n",
       " <span class=\"companyCardWrapper__ActionCount\">3.8k</span>,\n",
       " <span class=\"companyCardWrapper__ActionCount\">44</span>,\n",
       " <span class=\"companyCardWrapper__ActionCount\">25.7k</span>,\n",
       " <span class=\"companyCardWrapper__ActionCount\">89.4k</span>,\n",
       " <span class=\"companyCardWrapper__ActionCount\">1.6k</span>,\n",
       " <span class=\"companyCardWrapper__ActionCount\">234</span>,\n",
       " <span class=\"companyCardWrapper__ActionCount\">2.1k</span>,\n",
       " <span class=\"companyCardWrapper__ActionCount\">29</span>,\n",
       " <span class=\"companyCardWrapper__ActionCount\">24.3k</span>,\n",
       " <span class=\"companyCardWrapper__ActionCount\">1.2L</span>,\n",
       " <span class=\"companyCardWrapper__ActionCount\">1.5k</span>,\n",
       " <span class=\"companyCardWrapper__ActionCount\">44</span>,\n",
       " <span class=\"companyCardWrapper__ActionCount\">3.4k</span>,\n",
       " <span class=\"companyCardWrapper__ActionCount\">54</span>,\n",
       " <span class=\"companyCardWrapper__ActionCount\">23.6k</span>,\n",
       " <span class=\"companyCardWrapper__ActionCount\">98.2k</span>,\n",
       " <span class=\"companyCardWrapper__ActionCount\">1.4k</span>,\n",
       " <span class=\"companyCardWrapper__ActionCount\">86</span>,\n",
       " <span class=\"companyCardWrapper__ActionCount\">2.2k</span>,\n",
       " <span class=\"companyCardWrapper__ActionCount\">73</span>,\n",
       " <span class=\"companyCardWrapper__ActionCount\">23.5k</span>,\n",
       " <span class=\"companyCardWrapper__ActionCount\">1.3L</span>,\n",
       " <span class=\"companyCardWrapper__ActionCount\">4.6k</span>,\n",
       " <span class=\"companyCardWrapper__ActionCount\">112</span>,\n",
       " <span class=\"companyCardWrapper__ActionCount\">4.3k</span>,\n",
       " <span class=\"companyCardWrapper__ActionCount\">76</span>,\n",
       " <span class=\"companyCardWrapper__ActionCount\">21.3k</span>,\n",
       " <span class=\"companyCardWrapper__ActionCount\">64.9k</span>,\n",
       " <span class=\"companyCardWrapper__ActionCount\">1.5k</span>,\n",
       " <span class=\"companyCardWrapper__ActionCount\">117</span>,\n",
       " <span class=\"companyCardWrapper__ActionCount\">2.6k</span>,\n",
       " <span class=\"companyCardWrapper__ActionCount\">62</span>,\n",
       " <span class=\"companyCardWrapper__ActionCount\">20.7k</span>,\n",
       " <span class=\"companyCardWrapper__ActionCount\">2.1L</span>,\n",
       " <span class=\"companyCardWrapper__ActionCount\">2.2k</span>,\n",
       " <span class=\"companyCardWrapper__ActionCount\">2.5k</span>,\n",
       " <span class=\"companyCardWrapper__ActionCount\">2.8k</span>,\n",
       " <span class=\"companyCardWrapper__ActionCount\">23</span>,\n",
       " <span class=\"companyCardWrapper__ActionCount\">20.7k</span>,\n",
       " <span class=\"companyCardWrapper__ActionCount\">66k</span>,\n",
       " <span class=\"companyCardWrapper__ActionCount\">1.4k</span>,\n",
       " <span class=\"companyCardWrapper__ActionCount\">116</span>,\n",
       " <span class=\"companyCardWrapper__ActionCount\">2k</span>,\n",
       " <span class=\"companyCardWrapper__ActionCount\">106</span>,\n",
       " <span class=\"companyCardWrapper__ActionCount\">19k</span>,\n",
       " <span class=\"companyCardWrapper__ActionCount\">50.3k</span>,\n",
       " <span class=\"companyCardWrapper__ActionCount\">743</span>,\n",
       " <span class=\"companyCardWrapper__ActionCount\">108</span>,\n",
       " <span class=\"companyCardWrapper__ActionCount\">1.6k</span>,\n",
       " <span class=\"companyCardWrapper__ActionCount\">38</span>,\n",
       " <span class=\"companyCardWrapper__ActionCount\">18.8k</span>,\n",
       " <span class=\"companyCardWrapper__ActionCount\">20.2k</span>,\n",
       " <span class=\"companyCardWrapper__ActionCount\">433</span>,\n",
       " <span class=\"companyCardWrapper__ActionCount\">59</span>,\n",
       " <span class=\"companyCardWrapper__ActionCount\">550</span>,\n",
       " <span class=\"companyCardWrapper__ActionCount\">20</span>]"
      ]
     },
     "execution_count": 64,
     "metadata": {},
     "output_type": "execute_result"
    }
   ],
   "source": [
    "## Reviews\n",
    "soup.find_all('span',class_=\"companyCardWrapper__ActionCount\")"
   ]
  },
  {
   "cell_type": "code",
   "execution_count": 75,
   "id": "786e20c5-4a0a-4022-b995-06cfffe84508",
   "metadata": {},
   "outputs": [
    {
     "name": "stdout",
     "output_type": "stream",
     "text": [
      "IT Services & Consulting | 1 Lakh+ Employees | Public | 56 years old | Mumbai +364 more\n",
      "IT Services & Consulting | 1 Lakh+ Employees | Public | 35 years old | Dublin +183 more\n",
      "IT Services & Consulting | 1 Lakh+ Employees | Forbes Global 2000 | 30 years old | Teaneck. New Jersey. +183 more\n",
      "IT Services & Consulting | 1 Lakh+ Employees | Public | 79 years old | Bangalore/Bengaluru +291 more\n",
      "IT Services & Consulting | 1 Lakh+ Employees | Public | 57 years old | Paris +149 more\n",
      "Banking | 1 Lakh+ Employees | Public | 30 years old | Mumbai +1600 more\n",
      "Banking | 1 Lakh+ Employees | Public | 30 years old | Mumbai +1319 more\n",
      "IT Services & Consulting | 1 Lakh+ Employees | Public | 43 years old | Bengaluru/Bangalore +191 more\n",
      "IT Services & Consulting | 1 Lakh+ Employees | Public | 33 years old | Noida +196 more\n",
      "IT Services & Consulting | 1 Lakh+ Employees | Public | 38 years old | Pune +277 more\n",
      "IT Services & Consulting | 1 Lakh+ Employees | Public | 27 years old | New York +130 more\n",
      "BPO | 50k-1 Lakh Employees | Forbes Global 2000 | 46 years old | Paris +201 more\n",
      "IT Services & Consulting | 50k-1 Lakh Employees | Public | 41 years old | Fremont +132 more\n",
      "Banking | 50k-1 Lakh Employees | Public | 31 years old | Mumbai +1342 more\n",
      "Internet | 1 Lakh+ Employees | Public | 30 years old | Seattle +450 more\n",
      "Telecom | 50k-1 Lakh Employees | Public | 6 years old | Navi Mumbai +1193 more\n",
      "IT Services & Consulting | 1 Lakh+ Employees | Public | 113 years old | Armonk +153 more\n",
      "Retail | 1 Lakh+ Employees | 18 years old | Ghansoli +1030 more\n",
      "NBFC | 50k-1 Lakh Employees | 17 years old | Ahmedabad +981 more\n",
      "BPO | 10k-50k Employees | 24 years old | Noida +30 more\n"
     ]
    }
   ],
   "source": [
    "## Type \n",
    "type = []\n",
    "for i in soup.find_all('span',class_=\"companyCardWrapper__interLinking\"):\n",
    "    print(i.text.strip())"
   ]
  },
  {
   "cell_type": "markdown",
   "id": "8bc1ddce-feb2-4c0d-b30e-f39c4166f767",
   "metadata": {},
   "source": [
    "### Company Wrapper"
   ]
  },
  {
   "cell_type": "code",
   "execution_count": 79,
   "id": "e0738f36-d8a2-4458-a839-bab18e30bf56",
   "metadata": {},
   "outputs": [],
   "source": [
    "company = soup.find_all('div',class_='companyCardWrapper')"
   ]
  },
  {
   "cell_type": "code",
   "execution_count": 80,
   "id": "b9a2c3af-068e-4b59-8981-ea6dc4f4fadb",
   "metadata": {},
   "outputs": [
    {
     "data": {
      "text/plain": [
       "20"
      ]
     },
     "execution_count": 80,
     "metadata": {},
     "output_type": "execute_result"
    }
   ],
   "source": [
    "len(company)"
   ]
  },
  {
   "cell_type": "code",
   "execution_count": 155,
   "id": "3a2a0f35-cc5b-4691-b777-960649c77945",
   "metadata": {},
   "outputs": [
    {
     "name": "stdout",
     "output_type": "stream",
     "text": [
      "                      name rating review  \\\n",
      "0                      TCS    3.7  81.3k   \n",
      "1                Accenture    4.0  50.6k   \n",
      "2                Cognizant    3.8  45.8k   \n",
      "3                    Wipro    3.8  45.6k   \n",
      "4                Capgemini    3.8  37.6k   \n",
      "5                HDFC Bank    3.9  36.5k   \n",
      "6               ICICI Bank    4.0  35.8k   \n",
      "7                  Infosys    3.8  35.2k   \n",
      "8                  HCLTech    3.6  32.5k   \n",
      "9            Tech Mahindra    3.6  29.9k   \n",
      "10                 Genpact    3.9  28.4k   \n",
      "11         Teleperformance    3.9  25.7k   \n",
      "12  Concentrix Corporation    3.8  24.3k   \n",
      "13               Axis Bank    3.8  23.6k   \n",
      "14                  Amazon    4.1  23.5k   \n",
      "15                     Jio    3.9  21.3k   \n",
      "16                     IBM    4.1  20.7k   \n",
      "17         Reliance Retail    3.9  20.7k   \n",
      "18  HDB Financial Services    4.0    19k   \n",
      "19              iEnergizer    4.7  18.8k   \n",
      "\n",
      "                                              details  \\\n",
      "0   IT Services & Consulting | 1 Lakh+ Employees |...   \n",
      "1   IT Services & Consulting | 1 Lakh+ Employees |...   \n",
      "2   IT Services & Consulting | 1 Lakh+ Employees |...   \n",
      "3   IT Services & Consulting | 1 Lakh+ Employees |...   \n",
      "4   IT Services & Consulting | 1 Lakh+ Employees |...   \n",
      "5   Banking | 1 Lakh+ Employees | Public | 30 year...   \n",
      "6   Banking | 1 Lakh+ Employees | Public | 30 year...   \n",
      "7   IT Services & Consulting | 1 Lakh+ Employees |...   \n",
      "8   IT Services & Consulting | 1 Lakh+ Employees |...   \n",
      "9   IT Services & Consulting | 1 Lakh+ Employees |...   \n",
      "10  IT Services & Consulting | 1 Lakh+ Employees |...   \n",
      "11  BPO | 50k-1 Lakh Employees | Forbes Global 200...   \n",
      "12  IT Services & Consulting | 50k-1 Lakh Employee...   \n",
      "13  Banking | 50k-1 Lakh Employees | Public | 31 y...   \n",
      "14  Internet | 1 Lakh+ Employees | Public | 30 yea...   \n",
      "15  Telecom | 50k-1 Lakh Employees | Public | 6 ye...   \n",
      "16  IT Services & Consulting | 1 Lakh+ Employees |...   \n",
      "17  Retail | 1 Lakh+ Employees | 18 years old | Gh...   \n",
      "18  NBFC | 50k-1 Lakh Employees | 17 years old | A...   \n",
      "19  BPO | 10k-50k Employees | 24 years old | Noida...   \n",
      "\n",
      "                                       highlyRatedFor  \n",
      "0                     Job Security, Work Life Balance  \n",
      "1   Company Culture, Job Security, Skill Developme...  \n",
      "2                              Promotions / Appraisal  \n",
      "3                                        Job Security  \n",
      "4   Job Security, Work Life Balance, Skill Develop...  \n",
      "5          Job Security, Skill Development / Learning  \n",
      "6   Job Security, Skill Development / Learning, Co...  \n",
      "7    Job Security, Company Culture, Work Life Balance  \n",
      "8                                        Job Security  \n",
      "9   Promotions / Appraisal, Salary & Benefits, Wor...  \n",
      "10  Job Security, Skill Development / Learning, Wo...  \n",
      "11      Skill Development / Learning, Company Culture  \n",
      "12                      Job Security, Company Culture  \n",
      "13                                       Job Security  \n",
      "14  Company Culture, Salary & Benefits, Work Life ...  \n",
      "15         Job Security, Skill Development / Learning  \n",
      "16  Work Life Balance, Job Security, Skill Develop...  \n",
      "17         Skill Development / Learning, Job Security  \n",
      "18  Skill Development / Learning, Job Security, Co...  \n",
      "19  Company Culture, Job Security, Skill Developme...  \n"
     ]
    }
   ],
   "source": [
    "name =[]\n",
    "rating=[]\n",
    "comtype=[]\n",
    "reviews=[]\n",
    "details=[]\n",
    "highlyRatedFor=[]\n",
    "criticallyRatedFor=[]\n",
    "\n",
    "for i in company:\n",
    "    name.append(i.find('h2',class_='companyCardWrapper__companyName').text.strip())\n",
    "    rating.append(i.find('span',class_='companyCardWrapper__companyRatingValue').text)\n",
    "    reviews.append(i.find('span',class_=\"companyCardWrapper__ActionCount\").text)\n",
    "    try:\n",
    "        details.append(i.find('span',class_=\"companyCardWrapper__interLinking\").text.strip())\n",
    "    except:\n",
    "        details.append(np.nan)\n",
    "        \n",
    "    highlyRatedFor.append(i.find('span',class_='companyCardWrapper__ratingValues').text)\n",
    "    # criticallyRatedFor.append(i.find('span',class_='companyCardWrapper__ratingValues').text)\n",
    "\n",
    "d = {'name':name,'rating':rating,'review':reviews,'details':details,'highlyRatedFor':highlyRatedFor}\n",
    "\n",
    "df = pd.DataFrame(d)\n",
    "\n",
    "print(df)\n",
    "    \n",
    "\n",
    "    "
   ]
  },
  {
   "cell_type": "code",
   "execution_count": 136,
   "id": "9287a617-3e90-44cc-97cf-88fd44a7a629",
   "metadata": {},
   "outputs": [
    {
     "data": {
      "text/plain": [
       "[]"
      ]
     },
     "execution_count": 136,
     "metadata": {},
     "output_type": "execute_result"
    }
   ],
   "source": []
  },
  {
   "cell_type": "markdown",
   "id": "a4276d25-932a-4657-9ac7-ec4549f3c483",
   "metadata": {},
   "source": [
    "### If you are using find_all in loop thats incorrect and u cant use text with that since it is list"
   ]
  },
  {
   "cell_type": "code",
   "execution_count": 141,
   "id": "0b1b603c-a434-4b37-b593-69fef6518092",
   "metadata": {},
   "outputs": [
    {
     "data": {
      "text/plain": [
       "'IT Services & Consulting | 1 Lakh+ Employees | Public | 56 years old | Mumbai +364 more'"
      ]
     },
     "execution_count": 141,
     "metadata": {},
     "output_type": "execute_result"
    }
   ],
   "source": [
    "## 4 detail - type of company, headquater,etc\n",
    "#TCS\n",
    "company[0].find('span',class_=\"companyCardWrapper__interLinking\").text.strip()"
   ]
  },
  {
   "cell_type": "code",
   "execution_count": 127,
   "id": "e942bbb0-dc79-4d5c-b969-8b4da762ac28",
   "metadata": {},
   "outputs": [
    {
     "data": {
      "text/plain": [
       "'Job Security, Work Life Balance'"
      ]
     },
     "execution_count": 127,
     "metadata": {},
     "output_type": "execute_result"
    }
   ],
   "source": [
    "soup.find('span',class_='companyCardWrapper__ratingValues').text"
   ]
  },
  {
   "cell_type": "markdown",
   "id": "03735af7-cf4d-42a9-b5b6-5d0b4670ac79",
   "metadata": {},
   "source": [
    "## Final Loop "
   ]
  },
  {
   "cell_type": "code",
   "execution_count": 198,
   "id": "d58adb54-d2d7-41dd-af3d-29abb015f9ad",
   "metadata": {},
   "outputs": [],
   "source": [
    "final = []\n",
    "for j in range(1,26):\n",
    "    url='https://www.ambitionbox.com/list-of-companies?page={}'.format(j)\n",
    "    headers ={\"User-Agent\":\"Mozilla/5.0 (Macintosh, Tntel Mac OS X 10.14; rv:66.0)\"}\n",
    "    webpage = requests.get(url,headers=headers).text\n",
    "    \n",
    "    soup = BeautifulSoup(webpage,'html.parser')\n",
    "\n",
    "    company = soup.find_all('div',class_='companyCardWrapper')\n",
    "    name =[]\n",
    "    rating=[]\n",
    "    comtype=[]\n",
    "    reviews=[]\n",
    "    details=[]\n",
    "    highlyRatedFor=[]\n",
    "    criticallyRatedFor=[]\n",
    "\n",
    "    for i in company:\n",
    "        name.append(i.find('h2',class_='companyCardWrapper__companyName').text.strip())\n",
    "        rating.append(i.find('span',class_='companyCardWrapper__companyRatingValue').text)\n",
    "        reviews.append(i.find('span',class_=\"companyCardWrapper__ActionCount\").text)\n",
    "        try:\n",
    "            details.append(i.find('span',class_=\"companyCardWrapper__interLinking\").text.strip())\n",
    "        except:\n",
    "            details.append(np.nan)\n",
    "        try:\n",
    "            highlyRatedFor.append(i.find('span',class_='companyCardWrapper__ratingValues').text)\n",
    "        except:\n",
    "            highlyRatedFor.append(np.nan)\n",
    "            \n",
    "        # criticallyRatedFor.append(i.find('span',class_='companyCardWrapper__ratingValues').text)\n",
    "    \n",
    "    d = {'name':name,'rating':rating,'review':reviews,'details':details,'highlyRatedFor':highlyRatedFor}\n",
    "\n",
    "    final.append(df)\n",
    "\n",
    "final = pd.concat(final, ignore_index=True)  "
   ]
  },
  {
   "cell_type": "code",
   "execution_count": 199,
   "id": "e0989207-7e01-4c5b-ae0d-72eeb9f8ed64",
   "metadata": {},
   "outputs": [
    {
     "data": {
      "text/html": [
       "<div>\n",
       "<style scoped>\n",
       "    .dataframe tbody tr th:only-of-type {\n",
       "        vertical-align: middle;\n",
       "    }\n",
       "\n",
       "    .dataframe tbody tr th {\n",
       "        vertical-align: top;\n",
       "    }\n",
       "\n",
       "    .dataframe thead th {\n",
       "        text-align: right;\n",
       "    }\n",
       "</style>\n",
       "<table border=\"1\" class=\"dataframe\">\n",
       "  <thead>\n",
       "    <tr style=\"text-align: right;\">\n",
       "      <th></th>\n",
       "      <th>name</th>\n",
       "      <th>rating</th>\n",
       "      <th>review</th>\n",
       "      <th>details</th>\n",
       "      <th>highlyRatedFor</th>\n",
       "    </tr>\n",
       "  </thead>\n",
       "  <tbody>\n",
       "    <tr>\n",
       "      <th>0</th>\n",
       "      <td>TCS</td>\n",
       "      <td>3.7</td>\n",
       "      <td>81.3k</td>\n",
       "      <td>IT Services &amp; Consulting | 1 Lakh+ Employees |...</td>\n",
       "      <td>Job Security, Work Life Balance</td>\n",
       "    </tr>\n",
       "    <tr>\n",
       "      <th>1</th>\n",
       "      <td>Accenture</td>\n",
       "      <td>4.0</td>\n",
       "      <td>50.6k</td>\n",
       "      <td>IT Services &amp; Consulting | 1 Lakh+ Employees |...</td>\n",
       "      <td>Company Culture, Job Security, Skill Developme...</td>\n",
       "    </tr>\n",
       "    <tr>\n",
       "      <th>2</th>\n",
       "      <td>Cognizant</td>\n",
       "      <td>3.8</td>\n",
       "      <td>45.8k</td>\n",
       "      <td>IT Services &amp; Consulting | 1 Lakh+ Employees |...</td>\n",
       "      <td>Promotions / Appraisal</td>\n",
       "    </tr>\n",
       "    <tr>\n",
       "      <th>3</th>\n",
       "      <td>Wipro</td>\n",
       "      <td>3.8</td>\n",
       "      <td>45.6k</td>\n",
       "      <td>IT Services &amp; Consulting | 1 Lakh+ Employees |...</td>\n",
       "      <td>Job Security</td>\n",
       "    </tr>\n",
       "    <tr>\n",
       "      <th>4</th>\n",
       "      <td>Capgemini</td>\n",
       "      <td>3.8</td>\n",
       "      <td>37.6k</td>\n",
       "      <td>IT Services &amp; Consulting | 1 Lakh+ Employees |...</td>\n",
       "      <td>Job Security, Work Life Balance, Skill Develop...</td>\n",
       "    </tr>\n",
       "    <tr>\n",
       "      <th>...</th>\n",
       "      <td>...</td>\n",
       "      <td>...</td>\n",
       "      <td>...</td>\n",
       "      <td>...</td>\n",
       "      <td>...</td>\n",
       "    </tr>\n",
       "    <tr>\n",
       "      <th>495</th>\n",
       "      <td>Jio</td>\n",
       "      <td>3.9</td>\n",
       "      <td>21.3k</td>\n",
       "      <td>Telecom | 50k-1 Lakh Employees | Public | 6 ye...</td>\n",
       "      <td>Job Security, Skill Development / Learning</td>\n",
       "    </tr>\n",
       "    <tr>\n",
       "      <th>496</th>\n",
       "      <td>IBM</td>\n",
       "      <td>4.1</td>\n",
       "      <td>20.7k</td>\n",
       "      <td>IT Services &amp; Consulting | 1 Lakh+ Employees |...</td>\n",
       "      <td>Work Life Balance, Job Security, Skill Develop...</td>\n",
       "    </tr>\n",
       "    <tr>\n",
       "      <th>497</th>\n",
       "      <td>Reliance Retail</td>\n",
       "      <td>3.9</td>\n",
       "      <td>20.7k</td>\n",
       "      <td>Retail | 1 Lakh+ Employees | 18 years old | Ne...</td>\n",
       "      <td>Skill Development / Learning, Job Security</td>\n",
       "    </tr>\n",
       "    <tr>\n",
       "      <th>498</th>\n",
       "      <td>HDB Financial Services</td>\n",
       "      <td>4.0</td>\n",
       "      <td>19k</td>\n",
       "      <td>NBFC | 50k-1 Lakh Employees | 17 years old | N...</td>\n",
       "      <td>Skill Development / Learning, Job Security, Co...</td>\n",
       "    </tr>\n",
       "    <tr>\n",
       "      <th>499</th>\n",
       "      <td>iEnergizer</td>\n",
       "      <td>4.7</td>\n",
       "      <td>18.8k</td>\n",
       "      <td>BPO | 10k-50k Employees | 24 years old | New D...</td>\n",
       "      <td>Company Culture, Job Security, Skill Developme...</td>\n",
       "    </tr>\n",
       "  </tbody>\n",
       "</table>\n",
       "<p>500 rows × 5 columns</p>\n",
       "</div>"
      ],
      "text/plain": [
       "                       name rating review  \\\n",
       "0                       TCS    3.7  81.3k   \n",
       "1                 Accenture    4.0  50.6k   \n",
       "2                 Cognizant    3.8  45.8k   \n",
       "3                     Wipro    3.8  45.6k   \n",
       "4                 Capgemini    3.8  37.6k   \n",
       "..                      ...    ...    ...   \n",
       "495                     Jio    3.9  21.3k   \n",
       "496                     IBM    4.1  20.7k   \n",
       "497         Reliance Retail    3.9  20.7k   \n",
       "498  HDB Financial Services    4.0    19k   \n",
       "499              iEnergizer    4.7  18.8k   \n",
       "\n",
       "                                               details  \\\n",
       "0    IT Services & Consulting | 1 Lakh+ Employees |...   \n",
       "1    IT Services & Consulting | 1 Lakh+ Employees |...   \n",
       "2    IT Services & Consulting | 1 Lakh+ Employees |...   \n",
       "3    IT Services & Consulting | 1 Lakh+ Employees |...   \n",
       "4    IT Services & Consulting | 1 Lakh+ Employees |...   \n",
       "..                                                 ...   \n",
       "495  Telecom | 50k-1 Lakh Employees | Public | 6 ye...   \n",
       "496  IT Services & Consulting | 1 Lakh+ Employees |...   \n",
       "497  Retail | 1 Lakh+ Employees | 18 years old | Ne...   \n",
       "498  NBFC | 50k-1 Lakh Employees | 17 years old | N...   \n",
       "499  BPO | 10k-50k Employees | 24 years old | New D...   \n",
       "\n",
       "                                        highlyRatedFor  \n",
       "0                      Job Security, Work Life Balance  \n",
       "1    Company Culture, Job Security, Skill Developme...  \n",
       "2                               Promotions / Appraisal  \n",
       "3                                         Job Security  \n",
       "4    Job Security, Work Life Balance, Skill Develop...  \n",
       "..                                                 ...  \n",
       "495         Job Security, Skill Development / Learning  \n",
       "496  Work Life Balance, Job Security, Skill Develop...  \n",
       "497         Skill Development / Learning, Job Security  \n",
       "498  Skill Development / Learning, Job Security, Co...  \n",
       "499  Company Culture, Job Security, Skill Developme...  \n",
       "\n",
       "[500 rows x 5 columns]"
      ]
     },
     "execution_count": 199,
     "metadata": {},
     "output_type": "execute_result"
    }
   ],
   "source": [
    "final"
   ]
  },
  {
   "cell_type": "code",
   "execution_count": 200,
   "id": "9b1db1e8-56da-4585-89fc-5013d9ebe6f4",
   "metadata": {},
   "outputs": [],
   "source": [
    "final.to_csv('companies_details_scraped_from_abitionbox.csv')"
   ]
  },
  {
   "cell_type": "code",
   "execution_count": null,
   "id": "ff3ee1a3-fa33-4c2b-8d23-bdad472f97bc",
   "metadata": {},
   "outputs": [],
   "source": []
  }
 ],
 "metadata": {
  "kernelspec": {
   "display_name": "Python 3 (ipykernel)",
   "language": "python",
   "name": "python3"
  },
  "language_info": {
   "codemirror_mode": {
    "name": "ipython",
    "version": 3
   },
   "file_extension": ".py",
   "mimetype": "text/x-python",
   "name": "python",
   "nbconvert_exporter": "python",
   "pygments_lexer": "ipython3",
   "version": "3.12.6"
  }
 },
 "nbformat": 4,
 "nbformat_minor": 5
}

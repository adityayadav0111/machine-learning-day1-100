{
 "cells": [
  {
   "cell_type": "markdown",
   "id": "26c3a47a-cb73-474a-97a3-3561a2723a55",
   "metadata": {},
   "source": [
    "#### What is Machine learning?"
   ]
  },
  {
   "cell_type": "markdown",
   "id": "3fa70a56-34fe-4716-8e24-6ffa3fe4087c",
   "metadata": {},
   "source": [
    "Machine learing is a field of Computer science that uses statistical techniques to give computer systems the ability to \"learn\" with data, without being explicitly programmed.\n",
    "\n",
    "In simple terms, Machine Learning is all about learning from data\n",
    "\n",
    "In conventional programming, logic is written by humans. In machine learning, algorithms generate logic based on data."
   ]
  },
  {
   "cell_type": "markdown",
   "id": "07d15dc9-c392-4b45-9557-aaa237bef5b8",
   "metadata": {},
   "source": [
    "It's essential to learn both algorithms and the complete flow of machine learning projects, known as the 'Machine Learning Life Cycle'."
   ]
  },
  {
   "cell_type": "markdown",
   "id": "65a99725-93e3-40ee-9f7e-06f8508b1ac8",
   "metadata": {},
   "source": [
    "#### Where ML is used?"
   ]
  },
  {
   "cell_type": "markdown",
   "id": "3a6d2e11-6ec4-45b9-9eae-75fb435de796",
   "metadata": {},
   "source": [
    "1. Spam Detection - email/gmail\n",
    "2. Image Classification\n",
    "3. Data Mining (Data Analysis is not as same as Data Mining)"
   ]
  },
  {
   "cell_type": "markdown",
   "id": "daa5ec52-b72a-4ae7-bc6a-df4adf8cecd6",
   "metadata": {},
   "source": [
    "#### History "
   ]
  },
  {
   "cell_type": "markdown",
   "id": "2dc1178c-73b3-4519-8d37-746356ff3feb",
   "metadata": {},
   "source": [
    "1. ML has been in industry for more than 50 years but it actually came in limelight since 2010 because of limited amount data in the world till then.\n",
    "2. Now Entire world revolves around data so that why ML is now one of the hottest topic."
   ]
  },
  {
   "cell_type": "markdown",
   "id": "4365069f-3735-459b-b990-3b1c12ee304b",
   "metadata": {},
   "source": [
    "#### Examples:"
   ]
  },
  {
   "cell_type": "markdown",
   "id": "88999fb8-92d2-422d-b5da-149eb21cc807",
   "metadata": {},
   "source": [
    "1. Nawazzudin Siddique  -- munna bhai mbbs\n",
    "2. Addition of two numbers"
   ]
  },
  {
   "cell_type": "raw",
   "id": "0019ab89-4be2-475b-94ad-10ac3dd41a86",
   "metadata": {},
   "source": [
    "link: https://youtu.be/ZftI2fEz0Fw?si=cm6Cll2Kg8UJJmI4"
   ]
  },
  {
   "cell_type": "code",
   "execution_count": null,
   "id": "0988dbfd-9393-4b10-ad00-4c801a275c29",
   "metadata": {},
   "outputs": [],
   "source": []
  }
 ],
 "metadata": {
  "kernelspec": {
   "display_name": "Python 3 (ipykernel)",
   "language": "python",
   "name": "python3"
  },
  "language_info": {
   "codemirror_mode": {
    "name": "ipython",
    "version": 3
   },
   "file_extension": ".py",
   "mimetype": "text/x-python",
   "name": "python",
   "nbconvert_exporter": "python",
   "pygments_lexer": "ipython3",
   "version": "3.12.6"
  }
 },
 "nbformat": 4,
 "nbformat_minor": 5
}

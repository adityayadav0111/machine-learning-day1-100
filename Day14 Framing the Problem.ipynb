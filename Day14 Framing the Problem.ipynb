{
 "cells": [
  {
   "cell_type": "markdown",
   "id": "bcd2d9cd-e7d4-46cd-9d2d-8753d40d79dd",
   "metadata": {},
   "source": [
    "## Business Problem to ML problem\n",
    "- Convert the problem in a mathemathical problem\n",
    "- Type of Problem -- type of ml algo to be used\n",
    "- current solution --existing things can be used\n",
    "- Getting Data\n",
    "- Metrics To Measure   (sahi direction mein kaam ho raha hai ki nhi)\n",
    "- Online Vs Batch\n",
    "- check assumptions  -- features/factor available hai?? ya nhi"
   ]
  },
  {
   "cell_type": "markdown",
   "id": "55639f0b-80a4-4d60-9a00-ed8c0156bfea",
   "metadata": {},
   "source": [
    "link: https://youtu.be/A9SezQlvakw?si=QQ0VxKwESTWhuyk2"
   ]
  },
  {
   "cell_type": "code",
   "execution_count": null,
   "id": "504eeba0-a9c5-4869-9dfb-9aba9afb84bf",
   "metadata": {},
   "outputs": [],
   "source": []
  }
 ],
 "metadata": {
  "kernelspec": {
   "display_name": "Python 3 (ipykernel)",
   "language": "python",
   "name": "python3"
  },
  "language_info": {
   "codemirror_mode": {
    "name": "ipython",
    "version": 3
   },
   "file_extension": ".py",
   "mimetype": "text/x-python",
   "name": "python",
   "nbconvert_exporter": "python",
   "pygments_lexer": "ipython3",
   "version": "3.12.6"
  }
 },
 "nbformat": 4,
 "nbformat_minor": 5
}

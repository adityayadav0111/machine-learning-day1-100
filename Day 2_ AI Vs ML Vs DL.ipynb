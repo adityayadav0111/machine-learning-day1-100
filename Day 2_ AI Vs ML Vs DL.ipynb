{
 "cells": [
  {
   "cell_type": "markdown",
   "id": "ab323dcf-3bb5-4745-9ff9-e1762509c1e5",
   "metadata": {},
   "source": [
    "#### 1. Artificial Intelligence"
   ]
  },
  {
   "cell_type": "markdown",
   "id": "b4767728-999d-4fb1-aa2e-723c1e862df5",
   "metadata": {},
   "source": [
    "1. In simple terms we want to instil intelligence in machines.\n",
    "2. Intelligence in terms of - Pattern Recognition, creativity, imagination , emotional intelligence.\n",
    "3. Whatever AI we are pursuing right now are subset of actual intelligence i.e they are specific to something(pattern recognition).\n",
    "4. Other intelligence like creativity, imagination , emotional intelligence are not quantifiable and thats why still not achieveable.\n",
    "5. Alan Tuning\n",
    "6. Symbolic AI - A knowledge system with conventional programming(if else statements)\n",
    "7. Experts Systems - (Experts - knowledge - code)\n",
    "8. In short Expert system is part of Symbolic AI"
   ]
  },
  {
   "cell_type": "markdown",
   "id": "b441e07e-cb3b-4de4-8a3e-e9ea31e13502",
   "metadata": {},
   "source": [
    "#### 2. Machine Learning"
   ]
  },
  {
   "cell_type": "markdown",
   "id": "52941422-03cb-43e6-a756-5fb47e106689",
   "metadata": {},
   "source": [
    "1. No Explicit Programming(Ruled Based)\n",
    "2. Why need rules(code) when you can give data to machine"
   ]
  },
  {
   "cell_type": "markdown",
   "id": "a4f9d4fc-5e73-49f3-8688-163d2cadc769",
   "metadata": {},
   "source": [
    "#### 3. Deep Learning"
   ]
  },
  {
   "cell_type": "markdown",
   "id": "f86c1cb9-ad69-4eda-ba65-a46b1de1c329",
   "metadata": {},
   "source": [
    "1. DL is part of ML and involves all steps that is used in ML\n",
    "2. Inspired by Neuron\n",
    "3. Image Classification\n",
    "4. In ML we need to give features of each category but in DL it recognize the features on his own. "
   ]
  },
  {
   "cell_type": "markdown",
   "id": "10e58b1b-a25c-4adf-8a50-ef8e02f37984",
   "metadata": {},
   "source": [
    "Link: https://youtu.be/1v3_AQ26jZ0?si=mMeJbelRavmztV5p"
   ]
  },
  {
   "cell_type": "code",
   "execution_count": null,
   "id": "47067636-357c-43fe-abb5-b080fd3dfb86",
   "metadata": {},
   "outputs": [],
   "source": []
  }
 ],
 "metadata": {
  "kernelspec": {
   "display_name": "Python 3 (ipykernel)",
   "language": "python",
   "name": "python3"
  },
  "language_info": {
   "codemirror_mode": {
    "name": "ipython",
    "version": 3
   },
   "file_extension": ".py",
   "mimetype": "text/x-python",
   "name": "python",
   "nbconvert_exporter": "python",
   "pygments_lexer": "ipython3",
   "version": "3.12.6"
  }
 },
 "nbformat": 4,
 "nbformat_minor": 5
}
